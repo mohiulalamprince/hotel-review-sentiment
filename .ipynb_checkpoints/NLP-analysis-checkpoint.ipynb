{
 "cells": [
  {
   "cell_type": "code",
   "execution_count": 1,
   "metadata": {
    "collapsed": false
   },
   "outputs": [],
   "source": [
    "import spacy \n",
    "nlp = spacy.load(\"en\")\n"
   ]
  },
  {
   "cell_type": "code",
   "execution_count": 2,
   "metadata": {
    "collapsed": false
   },
   "outputs": [
    {
     "name": "stdout",
     "output_type": "stream",
     "text": [
      "top most similar words to breakfast:\n"
     ]
    },
    {
     "data": {
      "text/plain": [
       "[u'lunch',\n",
       " u'dinner',\n",
       " u'meal',\n",
       " u'meals',\n",
       " u'snack',\n",
       " u'snacks',\n",
       " u'coffee',\n",
       " u'restaurant',\n",
       " u'hotel',\n",
       " u'sandwiches',\n",
       " u'delicious',\n",
       " u'eat',\n",
       " u'drinks',\n",
       " u'morning',\n",
       " u'food',\n",
       " u'breakfast']"
      ]
     },
     "execution_count": 2,
     "metadata": {},
     "output_type": "execute_result"
    }
   ],
   "source": [
    "from numpy import dot \n",
    "from numpy.linalg import norm \n",
    "from spacy.en import English\n",
    "parser = English()\n",
    "\n",
    "'''\n",
    "    Here I have tried to findout the similar words using cosine similarity function\n",
    "'''\n",
    "def find_similar_word(word):\n",
    "    #Generate word vector of the word - \n",
    "    vocab_words = parser.vocab[word]\n",
    "\n",
    "    #Cosine similarity function \n",
    "    cosine = lambda v1, v2: dot(v1, v2) / (norm(v1) * norm(v2))\n",
    "    others = list({w for w in parser.vocab if w.has_vector and w.orth_.islower() and w.lower_ != unicode(word)})\n",
    "\n",
    "    # sort by similarity score\n",
    "    others.sort(key=lambda w: cosine(w.vector, vocab_words.vector)) \n",
    "    others.reverse()\n",
    "\n",
    "    similars = []\n",
    "    print \"top most similar words to %s:\" % word \n",
    "    for w in others[:15]:\n",
    "        similars.append(w.orth_)\n",
    "    similars.append(word)\n",
    "    return similars\n",
    "\n",
    "word = u'breakfast'\n",
    "bf_similar = find_similar_word(word)\n",
    "bf_similar"
   ]
  },
  {
   "cell_type": "code",
   "execution_count": 426,
   "metadata": {
    "collapsed": true
   },
   "outputs": [],
   "source": [
    "'''\n",
    "I have removed the s, es, ing related words using Porter stemmer\n",
    "'''\n",
    "from nltk.stem.porter import *\n",
    "\n",
    "stemmer = PorterStemmer()\n",
    "\n",
    "stem_bf_similar = [stemmer.stem(plural) for plural in bf_similar]"
   ]
  },
  {
   "cell_type": "code",
   "execution_count": 427,
   "metadata": {
    "collapsed": false
   },
   "outputs": [
    {
     "data": {
      "text/plain": [
       "[u'lunch',\n",
       " u'dinner',\n",
       " u'meal',\n",
       " u'meal',\n",
       " u'snack',\n",
       " u'snack',\n",
       " u'coffe',\n",
       " u'restaur',\n",
       " u'hotel',\n",
       " u'sandwich',\n",
       " u'delici',\n",
       " u'eat',\n",
       " u'drink',\n",
       " u'morn',\n",
       " u'food',\n",
       " u'breakfast']"
      ]
     },
     "execution_count": 427,
     "metadata": {},
     "output_type": "execute_result"
    }
   ],
   "source": [
    "stem_bf_similar"
   ]
  },
  {
   "cell_type": "code",
   "execution_count": 428,
   "metadata": {
    "collapsed": false
   },
   "outputs": [],
   "source": [
    "import json\n",
    "file_pointer = open(\"/Users/mohiulalamprince/Dropbox/nlp-analysis/reviews1.json\", \"r\")\n",
    "lines = file_pointer.readlines()\n",
    "lines = ''.join(lines)"
   ]
  },
  {
   "cell_type": "code",
   "execution_count": 429,
   "metadata": {
    "collapsed": false
   },
   "outputs": [],
   "source": [
    "import string\n",
    "json_output = json.loads(lines)"
   ]
  },
  {
   "cell_type": "code",
   "execution_count": 430,
   "metadata": {
    "collapsed": false
   },
   "outputs": [],
   "source": [
    "single_review = json_output['Reviews'][0]['Content']\n",
    "print single_review    "
   ]
  },
  {
   "cell_type": "code",
   "execution_count": 431,
   "metadata": {
    "collapsed": true
   },
   "outputs": [],
   "source": [
    "document = single_review\n",
    "document = \"Hotel is clean and very close to airport. Staff is more than helpful in most situations. Restaurant is fine, but I would suggest eating out for breakfast as their breakfast menu is extremely high priced. $28 for two and one of us only had toast and juice. Their lunch and dinners are more in line with what cost should be. Overall a good experience and I have been staying there for years. As holiday Inn advises..... No surprises.\""
   ]
  },
  {
   "cell_type": "code",
   "execution_count": 432,
   "metadata": {
    "collapsed": false
   },
   "outputs": [],
   "source": [
    "document = unicode(document.decode(\"utf8\"))\n",
    "document = nlp(document)"
   ]
  },
  {
   "cell_type": "code",
   "execution_count": 433,
   "metadata": {
    "collapsed": false
   },
   "outputs": [
    {
     "data": {
      "text/plain": [
       "88"
      ]
     },
     "execution_count": 433,
     "metadata": {},
     "output_type": "execute_result"
    }
   ],
   "source": [
    "len(document)"
   ]
  },
  {
   "cell_type": "code",
   "execution_count": 434,
   "metadata": {
    "collapsed": false
   },
   "outputs": [
    {
     "data": {
      "text/plain": [
       "[Hotel is clean and very close to airport.,\n",
       " Staff is more than helpful in most situations.,\n",
       " Restaurant is fine, but I would suggest eating out for breakfast as their breakfast menu is extremely high priced.,\n",
       " $28 for two and one of us only had toast and juice.,\n",
       " Their lunch and dinners are more in line with what cost should be.,\n",
       " Overall a good experience and I have been staying there for years.,\n",
       " As holiday Inn advises..... No surprises.]"
      ]
     },
     "execution_count": 434,
     "metadata": {},
     "output_type": "execute_result"
    }
   ],
   "source": [
    "list(document.sents)"
   ]
  },
  {
   "cell_type": "code",
   "execution_count": 435,
   "metadata": {
    "collapsed": true
   },
   "outputs": [],
   "source": [
    "all_tags = {w.pos: w.pos_ for w in document}"
   ]
  },
  {
   "cell_type": "code",
   "execution_count": 436,
   "metadata": {
    "collapsed": false
   },
   "outputs": [
    {
     "data": {
      "text/plain": [
       "{82: u'ADJ',\n",
       " 83: u'ADP',\n",
       " 84: u'ADV',\n",
       " 87: u'CCONJ',\n",
       " 88: u'DET',\n",
       " 90: u'NOUN',\n",
       " 91: u'NUM',\n",
       " 92: u'PART',\n",
       " 93: u'PRON',\n",
       " 94: u'PROPN',\n",
       " 95: u'PUNCT',\n",
       " 97: u'SYM',\n",
       " 98: u'VERB'}"
      ]
     },
     "execution_count": 436,
     "metadata": {},
     "output_type": "execute_result"
    }
   ],
   "source": [
    "all_tags"
   ]
  },
  {
   "cell_type": "code",
   "execution_count": 437,
   "metadata": {
    "collapsed": false
   },
   "outputs": [
    {
     "data": {
      "text/plain": [
       "[u'hotel',\n",
       " u'clean',\n",
       " u'close',\n",
       " u'airport',\n",
       " u'staff',\n",
       " u'helpful',\n",
       " u'situations',\n",
       " u'restaurant',\n",
       " u'fine',\n",
       " u'suggest',\n",
       " u'eating',\n",
       " u'breakfast',\n",
       " u'breakfast',\n",
       " u'menu',\n",
       " u'extremely',\n",
       " u'high',\n",
       " u'priced',\n",
       " u'28',\n",
       " u'toast',\n",
       " u'juice',\n",
       " u'lunch',\n",
       " u'dinners',\n",
       " u'line',\n",
       " u'cost',\n",
       " u'overall',\n",
       " u'good',\n",
       " u'experience',\n",
       " u'staying',\n",
       " u'years',\n",
       " u'holiday',\n",
       " u'inn',\n",
       " u'advises',\n",
       " u'.....',\n",
       " u'surprises']"
      ]
     },
     "execution_count": 437,
     "metadata": {},
     "output_type": "execute_result"
    }
   ],
   "source": [
    "#define some parameters  \n",
    "noisy_pos_tags = [\"PROP\"]\n",
    "min_token_length = 2\n",
    "\n",
    "#Function to check if the token is a noise or not  \n",
    "def isNoise(token):     \n",
    "    is_noise = False\n",
    "    if token.pos_ in noisy_pos_tags:\n",
    "        is_noise = True \n",
    "    elif token.is_stop == True:\n",
    "        is_noise = True\n",
    "    elif len(token.string) <= min_token_length:\n",
    "        is_noise = True\n",
    "    return is_noise \n",
    "def cleanup(token, lower = True):\n",
    "    if lower:\n",
    "       token = token.lower()\n",
    "    return token.strip()\n",
    "\n",
    "# top unigrams used in the reviews \n",
    "from collections import Counter\n",
    "cleaned_list = [cleanup(word.string) for word in document if not isNoise(word)]\n",
    "cleaned_list"
   ]
  },
  {
   "cell_type": "code",
   "execution_count": 438,
   "metadata": {
    "collapsed": false
   },
   "outputs": [
    {
     "data": {
      "text/plain": [
       "[(u'breakfast', 2),\n",
       " (u'suggest', 1),\n",
       " (u'surprises', 1),\n",
       " (u'years', 1),\n",
       " (u'high', 1)]"
      ]
     },
     "execution_count": 438,
     "metadata": {},
     "output_type": "execute_result"
    }
   ],
   "source": [
    "Counter(cleaned_list) .most_common(5)"
   ]
  },
  {
   "cell_type": "code",
   "execution_count": 439,
   "metadata": {
    "collapsed": false
   },
   "outputs": [],
   "source": [
    "labels = set([w.label_ for w in document.ents]) \n",
    "for label in labels: \n",
    "    entities = [cleanup(e.string, lower=False) for e in document.ents if label==e.label_] \n",
    "    entities = list(set(entities)) \n",
    "    print label,entities"
   ]
  },
  {
   "cell_type": "code",
   "execution_count": 440,
   "metadata": {
    "collapsed": false
   },
   "outputs": [
    {
     "data": {
      "text/plain": [
       "([u'lunch',\n",
       "  u'dinner',\n",
       "  u'restaurant',\n",
       "  u'hotel',\n",
       "  u'eat',\n",
       "  u'breakfast',\n",
       "  u'breakfast'],\n",
       " 7)"
      ]
     },
     "execution_count": 440,
     "metadata": {},
     "output_type": "execute_result"
    }
   ],
   "source": [
    "def find_score(word_similars, cleaned_list):\n",
    "    score = 0\n",
    "    vocab_list = []\n",
    "    for bf in word_similars:\n",
    "        for word in cleaned_list:\n",
    "            if word.startswith(bf) and abs(len(word) - len(bf)) <= 3:\n",
    "                score += 1\n",
    "                vocab_list.append(bf)\n",
    "    return vocab_list, score\n",
    "\n",
    "word = u\"breakfast\"\n",
    "bf_similars = find_similar_word(word)\n",
    "vocab_list, score = find_score(bf_similars, cleaned_list)\n",
    "vocab_list, score"
   ]
  },
  {
   "cell_type": "code",
   "execution_count": 441,
   "metadata": {
    "collapsed": false
   },
   "outputs": [
    {
     "data": {
      "text/plain": [
       "[u'rooms',\n",
       " u'floor',\n",
       " u'bathroom',\n",
       " u'hallway',\n",
       " u'bedroom',\n",
       " u'desk',\n",
       " u'hall',\n",
       " u'kitchen',\n",
       " u'bed',\n",
       " u'sitting',\n",
       " u'house',\n",
       " u'laundry',\n",
       " u'apartment',\n",
       " u'basement',\n",
       " u'dorm',\n",
       " u'room']"
      ]
     },
     "execution_count": 441,
     "metadata": {},
     "output_type": "execute_result"
    }
   ],
   "source": [
    "#find room \n",
    "word = u\"room\"\n",
    "\n",
    "room_similars = find_similar_word(word)\n",
    "room_similars"
   ]
  },
  {
   "cell_type": "code",
   "execution_count": 442,
   "metadata": {
    "collapsed": true
   },
   "outputs": [],
   "source": [
    "vocab_list, score = find_score(room_similars, cleaned_list)"
   ]
  },
  {
   "cell_type": "code",
   "execution_count": 443,
   "metadata": {
    "collapsed": false
   },
   "outputs": [
    {
     "data": {
      "text/plain": [
       "([], 0)"
      ]
     },
     "execution_count": 443,
     "metadata": {},
     "output_type": "execute_result"
    }
   ],
   "source": [
    "vocab_list, score"
   ]
  },
  {
   "cell_type": "code",
   "execution_count": 444,
   "metadata": {
    "collapsed": false
   },
   "outputs": [
    {
     "data": {
      "text/plain": [
       "[u'consistency',\n",
       " u'hotter',\n",
       " u'patches',\n",
       " u'journey',\n",
       " u'featured',\n",
       " u'ref',\n",
       " u'puppies',\n",
       " u'artwork',\n",
       " u'crystal',\n",
       " u'defenses',\n",
       " u'helmet',\n",
       " u'slowed',\n",
       " u'promotion',\n",
       " u'similarities',\n",
       " u'boner',\n",
       " u'spa']"
      ]
     },
     "execution_count": 444,
     "metadata": {},
     "output_type": "execute_result"
    }
   ],
   "source": [
    "## Spa\n",
    "word = u\"spa\"\n",
    "spa_similars = find_similar_word(word)\n",
    "spa_similars\n"
   ]
  },
  {
   "cell_type": "code",
   "execution_count": 445,
   "metadata": {
    "collapsed": true
   },
   "outputs": [],
   "source": [
    "vocab_list, score = find_score(spa_similars, cleaned_list)"
   ]
  },
  {
   "cell_type": "code",
   "execution_count": 446,
   "metadata": {
    "collapsed": false
   },
   "outputs": [
    {
     "data": {
      "text/plain": [
       "([], 0)"
      ]
     },
     "execution_count": 446,
     "metadata": {},
     "output_type": "execute_result"
    }
   ],
   "source": [
    "vocab_list, score"
   ]
  },
  {
   "cell_type": "code",
   "execution_count": 447,
   "metadata": {
    "collapsed": false
   },
   "outputs": [
    {
     "data": {
      "text/plain": [
       "188"
      ]
     },
     "execution_count": 447,
     "metadata": {},
     "output_type": "execute_result"
    }
   ],
   "source": [
    "len(json_output['Reviews'])"
   ]
  },
  {
   "cell_type": "code",
   "execution_count": 448,
   "metadata": {
    "collapsed": true
   },
   "outputs": [],
   "source": [
    "reviews = []\n",
    "for review in json_output['Reviews']:\n",
    "    reviews.append(review['Content'])"
   ]
  },
  {
   "cell_type": "code",
   "execution_count": 449,
   "metadata": {
    "collapsed": false
   },
   "outputs": [
    {
     "data": {
      "text/plain": [
       "[u'Hotel is clean and very close to airport. Staff is more than helpful in most situations. Restaurant is fine, but I would suggest eating out for breakfast as their breakfast menu is extremely high priced. $28 for two and one of us only had toast and juice. Their lunch and dinners are more in line with what cost should be. Overall a good experience and I have been staying there for years. As holiday Inn advises..... No surprises.',\n",
       " u\"Very convenient for LAX (free shuttle). New very large hotel. The staff try their best but it's very impersonal. Good restaurant, excellent breakfast, nice little bar. Room fine. Quite good deal on LA tour from consierge. Small pool (did not use). No grounds - hotel entrance rather squeezed in among existing businesses. But reasonable value.\"]"
      ]
     },
     "execution_count": 449,
     "metadata": {},
     "output_type": "execute_result"
    }
   ],
   "source": [
    "reviews[0:2]"
   ]
  },
  {
   "cell_type": "code",
   "execution_count": 466,
   "metadata": {
    "collapsed": false
   },
   "outputs": [],
   "source": [
    "import pandas as pd\n",
    "import sys\n",
    "\n",
    "reload(sys)\n",
    "\n",
    "sys.setdefaultencoding('utf-8')\n",
    "\n",
    "word = u\"breakfast\"\n",
    "bf_similars = find_similar_word(word)\n",
    "\n",
    "word = u\"room\"\n",
    "room_similars = find_similar_word(word)\n",
    "\n",
    "word = u\"spa\"\n",
    "spa_similars = find_similar_word(word)\n",
    "\n",
    "review_details = []\n",
    "for review in reviews:\n",
    "    document = review\n",
    "    document = unicode(document.decode(\"utf8\"))\n",
    "    document = nlp(document)\n",
    "    cleaned_list = [cleanup(word.string) for word in document if not isNoise(word)]\n",
    "    \n",
    "    \n",
    "    bf_vocab_list, bf_score = find_score(bf_similars, cleaned_list) \n",
    "    room_vocab_list, room_score = find_score(room_similars, cleaned_list)\n",
    "    spa_vocab_list, spa_score = find_score(spa_similars, cleaned_list)\n",
    "    \n",
    "    review_details.append((cleaned_list, bf_vocab_list, bf_score, room_vocab_list, room_score, spa_vocab_list, spa_score))\n",
    "    "
   ]
  },
  {
   "cell_type": "code",
   "execution_count": 467,
   "metadata": {
    "collapsed": false
   },
   "outputs": [
    {
     "data": {
      "text/plain": [
       "[([u'stay',\n",
       "   u'hotel',\n",
       "   u'lot',\n",
       "   u'staff',\n",
       "   u'nice',\n",
       "   u'helpful',\n",
       "   u'rooms',\n",
       "   u'hit',\n",
       "   u'miss',\n",
       "   u'time',\n",
       "   u'disappointed',\n",
       "   u'room',\n",
       "   u'1003',\n",
       "   u'holes',\n",
       "   u'bed',\n",
       "   u'sheets',\n",
       "   u'ac',\n",
       "   u'controlo',\n",
       "   u'panel',\n",
       "   u'working',\n",
       "   u'wall'],\n",
       "  [u'hotel'],\n",
       "  1,\n",
       "  [u'rooms', u'bed', u'room', u'room'],\n",
       "  4,\n",
       "  [],\n",
       "  0),\n",
       " ([u'hotel',\n",
       "   u'good',\n",
       "   u'night',\n",
       "   u'stay',\n",
       "   u'close',\n",
       "   u'airport',\n",
       "   u'charge',\n",
       "   u'15',\n",
       "   u'parking',\n",
       "   u'bed',\n",
       "   u'rooms',\n",
       "   u'double',\n",
       "   u'beds',\n",
       "   u'queen',\n",
       "   u'room',\n",
       "   u'smelled',\n",
       "   u'musty',\n",
       "   u'toilet',\n",
       "   u'seat',\n",
       "   u'urine',\n",
       "   u'stains',\n",
       "   u'hair',\n",
       "   u'guest',\n",
       "   u'service',\n",
       "   u'good',\n",
       "   u'fine',\n",
       "   u'night'],\n",
       "  [u'hotel'],\n",
       "  1,\n",
       "  [u'rooms', u'bed', u'bed', u'room', u'room'],\n",
       "  5,\n",
       "  [],\n",
       "  0)]"
      ]
     },
     "execution_count": 467,
     "metadata": {},
     "output_type": "execute_result"
    }
   ],
   "source": [
    "review_details[5:7]"
   ]
  },
  {
   "cell_type": "code",
   "execution_count": 468,
   "metadata": {
    "collapsed": false
   },
   "outputs": [],
   "source": [
    "df = pd.DataFrame(review_details, columns=['cleaned_review','bf_similar_found', 'bf_similar_score', 'room_similar_found', 'room_similar_score', 'spa_similar_found', 'spa_similar_score'])"
   ]
  },
  {
   "cell_type": "code",
   "execution_count": 469,
   "metadata": {
    "collapsed": false
   },
   "outputs": [
    {
     "data": {
      "text/html": [
       "<div>\n",
       "<table border=\"1\" class=\"dataframe\">\n",
       "  <thead>\n",
       "    <tr style=\"text-align: right;\">\n",
       "      <th></th>\n",
       "      <th>cleaned_review</th>\n",
       "      <th>bf_similar_found</th>\n",
       "      <th>bf_similar_score</th>\n",
       "      <th>room_similar_found</th>\n",
       "      <th>room_similar_score</th>\n",
       "      <th>spa_similar_found</th>\n",
       "      <th>spa_similar_score</th>\n",
       "    </tr>\n",
       "  </thead>\n",
       "  <tbody>\n",
       "    <tr>\n",
       "      <th>0</th>\n",
       "      <td>[hotel, clean, close, airport, staff, helpful,...</td>\n",
       "      <td>[lunch, dinner, restaurant, hotel, eat, breakf...</td>\n",
       "      <td>7</td>\n",
       "      <td>[]</td>\n",
       "      <td>0</td>\n",
       "      <td>[]</td>\n",
       "      <td>0</td>\n",
       "    </tr>\n",
       "    <tr>\n",
       "      <th>1</th>\n",
       "      <td>[convenient, lax, free, shuttle, new, large, h...</td>\n",
       "      <td>[restaurant, hotel, hotel, breakfast]</td>\n",
       "      <td>4</td>\n",
       "      <td>[room]</td>\n",
       "      <td>1</td>\n",
       "      <td>[]</td>\n",
       "      <td>0</td>\n",
       "    </tr>\n",
       "    <tr>\n",
       "      <th>2</th>\n",
       "      <td>[thing, like, holiday, inn, lax, proximity, pe...</td>\n",
       "      <td>[hotel, eat]</td>\n",
       "      <td>2</td>\n",
       "      <td>[rooms, bed, room, room]</td>\n",
       "      <td>4</td>\n",
       "      <td>[]</td>\n",
       "      <td>0</td>\n",
       "    </tr>\n",
       "    <tr>\n",
       "      <th>3</th>\n",
       "      <td>[stayed, night, taking, cruise, joe, outstandi...</td>\n",
       "      <td>[hotel]</td>\n",
       "      <td>1</td>\n",
       "      <td>[desk, room]</td>\n",
       "      <td>2</td>\n",
       "      <td>[]</td>\n",
       "      <td>0</td>\n",
       "    </tr>\n",
       "    <tr>\n",
       "      <th>4</th>\n",
       "      <td>[hotel, minutes, away, lax, convenient, shuttl...</td>\n",
       "      <td>[hotel]</td>\n",
       "      <td>1</td>\n",
       "      <td>[hallway, hall, room]</td>\n",
       "      <td>3</td>\n",
       "      <td>[]</td>\n",
       "      <td>0</td>\n",
       "    </tr>\n",
       "  </tbody>\n",
       "</table>\n",
       "</div>"
      ],
      "text/plain": [
       "                                      cleaned_review  \\\n",
       "0  [hotel, clean, close, airport, staff, helpful,...   \n",
       "1  [convenient, lax, free, shuttle, new, large, h...   \n",
       "2  [thing, like, holiday, inn, lax, proximity, pe...   \n",
       "3  [stayed, night, taking, cruise, joe, outstandi...   \n",
       "4  [hotel, minutes, away, lax, convenient, shuttl...   \n",
       "\n",
       "                                    bf_similar_found  bf_similar_score  \\\n",
       "0  [lunch, dinner, restaurant, hotel, eat, breakf...                 7   \n",
       "1              [restaurant, hotel, hotel, breakfast]                 4   \n",
       "2                                       [hotel, eat]                 2   \n",
       "3                                            [hotel]                 1   \n",
       "4                                            [hotel]                 1   \n",
       "\n",
       "         room_similar_found  room_similar_score spa_similar_found  \\\n",
       "0                        []                   0                []   \n",
       "1                    [room]                   1                []   \n",
       "2  [rooms, bed, room, room]                   4                []   \n",
       "3              [desk, room]                   2                []   \n",
       "4     [hallway, hall, room]                   3                []   \n",
       "\n",
       "   spa_similar_score  \n",
       "0                  0  \n",
       "1                  0  \n",
       "2                  0  \n",
       "3                  0  \n",
       "4                  0  "
      ]
     },
     "execution_count": 469,
     "metadata": {},
     "output_type": "execute_result"
    }
   ],
   "source": [
    "df.head(5)"
   ]
  },
  {
   "cell_type": "code",
   "execution_count": 470,
   "metadata": {
    "collapsed": false
   },
   "outputs": [],
   "source": [
    "df =df[(df['room_similar_score'] > 3) & (df['bf_similar_score'] > 3)].sort_values(['room_similar_score'], ascending=False)"
   ]
  },
  {
   "cell_type": "code",
   "execution_count": 471,
   "metadata": {
    "collapsed": false
   },
   "outputs": [
    {
     "data": {
      "text/html": [
       "<div>\n",
       "<table border=\"1\" class=\"dataframe\">\n",
       "  <thead>\n",
       "    <tr style=\"text-align: right;\">\n",
       "      <th></th>\n",
       "      <th>cleaned_review</th>\n",
       "      <th>bf_similar_found</th>\n",
       "      <th>bf_similar_score</th>\n",
       "      <th>room_similar_found</th>\n",
       "      <th>room_similar_score</th>\n",
       "      <th>spa_similar_found</th>\n",
       "      <th>spa_similar_score</th>\n",
       "    </tr>\n",
       "  </thead>\n",
       "  <tbody>\n",
       "    <tr>\n",
       "      <th>73</th>\n",
       "      <td>[read, review, 100%, honest, intended, warn, f...</td>\n",
       "      <td>[hotel, hotel, hotel, hotel, hotel, hotel, hot...</td>\n",
       "      <td>9</td>\n",
       "      <td>[rooms, rooms, desk, desk, bed, bed, bed, bed,...</td>\n",
       "      <td>22</td>\n",
       "      <td>[]</td>\n",
       "      <td>0</td>\n",
       "    </tr>\n",
       "    <tr>\n",
       "      <th>65</th>\n",
       "      <td>[note, priceline, party, guests, like, 3rd, pa...</td>\n",
       "      <td>[coffee, coffee, coffee, coffee, coffee, resta...</td>\n",
       "      <td>9</td>\n",
       "      <td>[rooms, rooms, desk, desk, desk, desk, desk, d...</td>\n",
       "      <td>19</td>\n",
       "      <td>[]</td>\n",
       "      <td>0</td>\n",
       "    </tr>\n",
       "    <tr>\n",
       "      <th>179</th>\n",
       "      <td>[wife, stayed, hotel, package, rose, bowl, par...</td>\n",
       "      <td>[dinner, restaurant, restaurant, restaurant, r...</td>\n",
       "      <td>18</td>\n",
       "      <td>[floor, floor, bathroom, hallway, hall, bed, r...</td>\n",
       "      <td>13</td>\n",
       "      <td>[]</td>\n",
       "      <td>0</td>\n",
       "    </tr>\n",
       "    <tr>\n",
       "      <th>127</th>\n",
       "      <td>[stayed, hotel, october, 2008, long, flight, l...</td>\n",
       "      <td>[hotel, hotel, hotel, hotel, hotel, hotel, hot...</td>\n",
       "      <td>10</td>\n",
       "      <td>[rooms, rooms, floor, room, room, room, room, ...</td>\n",
       "      <td>12</td>\n",
       "      <td>[ref]</td>\n",
       "      <td>1</td>\n",
       "    </tr>\n",
       "    <tr>\n",
       "      <th>135</th>\n",
       "      <td>[booked, hotel, close, lax, undergoing, refurb...</td>\n",
       "      <td>[coffee, coffee, coffee, coffee, restaurant, h...</td>\n",
       "      <td>11</td>\n",
       "      <td>[floor, floor, floor, floor, hallway, hallway,...</td>\n",
       "      <td>12</td>\n",
       "      <td>[ref, ref, ref, ref]</td>\n",
       "      <td>4</td>\n",
       "    </tr>\n",
       "  </tbody>\n",
       "</table>\n",
       "</div>"
      ],
      "text/plain": [
       "                                        cleaned_review  \\\n",
       "73   [read, review, 100%, honest, intended, warn, f...   \n",
       "65   [note, priceline, party, guests, like, 3rd, pa...   \n",
       "179  [wife, stayed, hotel, package, rose, bowl, par...   \n",
       "127  [stayed, hotel, october, 2008, long, flight, l...   \n",
       "135  [booked, hotel, close, lax, undergoing, refurb...   \n",
       "\n",
       "                                      bf_similar_found  bf_similar_score  \\\n",
       "73   [hotel, hotel, hotel, hotel, hotel, hotel, hot...                 9   \n",
       "65   [coffee, coffee, coffee, coffee, coffee, resta...                 9   \n",
       "179  [dinner, restaurant, restaurant, restaurant, r...                18   \n",
       "127  [hotel, hotel, hotel, hotel, hotel, hotel, hot...                10   \n",
       "135  [coffee, coffee, coffee, coffee, restaurant, h...                11   \n",
       "\n",
       "                                    room_similar_found  room_similar_score  \\\n",
       "73   [rooms, rooms, desk, desk, bed, bed, bed, bed,...                  22   \n",
       "65   [rooms, rooms, desk, desk, desk, desk, desk, d...                  19   \n",
       "179  [floor, floor, bathroom, hallway, hall, bed, r...                  13   \n",
       "127  [rooms, rooms, floor, room, room, room, room, ...                  12   \n",
       "135  [floor, floor, floor, floor, hallway, hallway,...                  12   \n",
       "\n",
       "        spa_similar_found  spa_similar_score  \n",
       "73                     []                  0  \n",
       "65                     []                  0  \n",
       "179                    []                  0  \n",
       "127                 [ref]                  1  \n",
       "135  [ref, ref, ref, ref]                  4  "
      ]
     },
     "execution_count": 471,
     "metadata": {},
     "output_type": "execute_result"
    }
   ],
   "source": [
    "df.head(5)"
   ]
  },
  {
   "cell_type": "code",
   "execution_count": 472,
   "metadata": {
    "collapsed": false
   },
   "outputs": [
    {
     "data": {
      "text/plain": [
       "cleaned_review        40\n",
       "bf_similar_found      40\n",
       "bf_similar_score      40\n",
       "room_similar_found    40\n",
       "room_similar_score    40\n",
       "spa_similar_found     40\n",
       "spa_similar_score     40\n",
       "dtype: int64"
      ]
     },
     "execution_count": 472,
     "metadata": {},
     "output_type": "execute_result"
    }
   ],
   "source": [
    "df.count()"
   ]
  },
  {
   "cell_type": "code",
   "execution_count": 473,
   "metadata": {
    "collapsed": false
   },
   "outputs": [
    {
     "data": {
      "text/plain": [
       "cleaned_review        21.276596\n",
       "bf_similar_found      21.276596\n",
       "bf_similar_score      21.276596\n",
       "room_similar_found    21.276596\n",
       "room_similar_score    21.276596\n",
       "spa_similar_found     21.276596\n",
       "spa_similar_score     21.276596\n",
       "dtype: float64"
      ]
     },
     "execution_count": 473,
     "metadata": {},
     "output_type": "execute_result"
    }
   ],
   "source": [
    "df.count()/188.0*100.0"
   ]
  },
  {
   "cell_type": "code",
   "execution_count": 474,
   "metadata": {
    "collapsed": false
   },
   "outputs": [
    {
     "data": {
      "text/plain": [
       "bf_similar_score      7.275\n",
       "room_similar_score    7.450\n",
       "spa_similar_score     0.200\n",
       "dtype: float64"
      ]
     },
     "execution_count": 474,
     "metadata": {},
     "output_type": "execute_result"
    }
   ],
   "source": [
    "df.mean()"
   ]
  },
  {
   "cell_type": "code",
   "execution_count": 475,
   "metadata": {
    "collapsed": false
   },
   "outputs": [
    {
     "data": {
      "text/plain": [
       "bf_similar_score      3.755253\n",
       "room_similar_score    3.954549\n",
       "spa_similar_score     0.686873\n",
       "dtype: float64"
      ]
     },
     "execution_count": 475,
     "metadata": {},
     "output_type": "execute_result"
    }
   ],
   "source": [
    "df.std()"
   ]
  },
  {
   "cell_type": "code",
   "execution_count": 476,
   "metadata": {
    "collapsed": false
   },
   "outputs": [
    {
     "data": {
      "text/html": [
       "<div>\n",
       "<table border=\"1\" class=\"dataframe\">\n",
       "  <thead>\n",
       "    <tr style=\"text-align: right;\">\n",
       "      <th></th>\n",
       "      <th>bf_similar_score</th>\n",
       "      <th>room_similar_score</th>\n",
       "      <th>spa_similar_score</th>\n",
       "    </tr>\n",
       "  </thead>\n",
       "  <tbody>\n",
       "    <tr>\n",
       "      <th>count</th>\n",
       "      <td>40.000000</td>\n",
       "      <td>40.000000</td>\n",
       "      <td>40.000000</td>\n",
       "    </tr>\n",
       "    <tr>\n",
       "      <th>mean</th>\n",
       "      <td>7.275000</td>\n",
       "      <td>7.450000</td>\n",
       "      <td>0.200000</td>\n",
       "    </tr>\n",
       "    <tr>\n",
       "      <th>std</th>\n",
       "      <td>3.755253</td>\n",
       "      <td>3.954549</td>\n",
       "      <td>0.686873</td>\n",
       "    </tr>\n",
       "    <tr>\n",
       "      <th>min</th>\n",
       "      <td>4.000000</td>\n",
       "      <td>4.000000</td>\n",
       "      <td>0.000000</td>\n",
       "    </tr>\n",
       "    <tr>\n",
       "      <th>25%</th>\n",
       "      <td>5.000000</td>\n",
       "      <td>5.000000</td>\n",
       "      <td>0.000000</td>\n",
       "    </tr>\n",
       "    <tr>\n",
       "      <th>50%</th>\n",
       "      <td>6.000000</td>\n",
       "      <td>6.000000</td>\n",
       "      <td>0.000000</td>\n",
       "    </tr>\n",
       "    <tr>\n",
       "      <th>75%</th>\n",
       "      <td>8.000000</td>\n",
       "      <td>8.000000</td>\n",
       "      <td>0.000000</td>\n",
       "    </tr>\n",
       "    <tr>\n",
       "      <th>max</th>\n",
       "      <td>21.000000</td>\n",
       "      <td>22.000000</td>\n",
       "      <td>4.000000</td>\n",
       "    </tr>\n",
       "  </tbody>\n",
       "</table>\n",
       "</div>"
      ],
      "text/plain": [
       "       bf_similar_score  room_similar_score  spa_similar_score\n",
       "count         40.000000           40.000000          40.000000\n",
       "mean           7.275000            7.450000           0.200000\n",
       "std            3.755253            3.954549           0.686873\n",
       "min            4.000000            4.000000           0.000000\n",
       "25%            5.000000            5.000000           0.000000\n",
       "50%            6.000000            6.000000           0.000000\n",
       "75%            8.000000            8.000000           0.000000\n",
       "max           21.000000           22.000000           4.000000"
      ]
     },
     "execution_count": 476,
     "metadata": {},
     "output_type": "execute_result"
    }
   ],
   "source": [
    "df.describe()"
   ]
  },
  {
   "cell_type": "code",
   "execution_count": 477,
   "metadata": {
    "collapsed": true
   },
   "outputs": [],
   "source": [
    "single_review = json_output['Reviews']"
   ]
  },
  {
   "cell_type": "code",
   "execution_count": 478,
   "metadata": {
    "collapsed": false
   },
   "outputs": [
    {
     "data": {
      "text/plain": [
       "[{u'Author': u'Fisherman Jim',\n",
       "  u'Content': u'Savov - Good Value Found the hotel quite quaint. No A/C concerned me, but with window open, still was quiet and comfortable. We upgraded to a better room ($10 more) and thoroughly enjoyed it.The wine and cheese every night was a nice touch.Bed comfortable, bathroom clean and bright, good shower.Front desk QUITE helpful.Valet parking quick and convenient.Theatre, shopping and trolley lines within short walking distance.An excellent value.',\n",
       "  u'Date': u'Sep 13, 2005',\n",
       "  u'Ratings': {u'Business service': u'-1',\n",
       "   u'Check in / front desk': u'-1',\n",
       "   u'Cleanliness': u'5',\n",
       "   u'Location': u'-1',\n",
       "   u'Overall': u'4',\n",
       "   u'Rooms': u'4',\n",
       "   u'Service': u'5',\n",
       "   u'Value': u'5'},\n",
       "  u'ReviewID': u'UR216861976'},\n",
       " {u'Author': u'A TripAdvisor Member',\n",
       "  u'Content': u'Very poor experience My husband and I planned our trip to San Francisco months ago including hotel reservations. We had originally planned to stay at the Savoy Hotel (based on recommendations on this site and in various guidebooks) for four nights. However, about one month before our arrival date our plans changed. I notified the hotel that we needed to cancel two nights. I was given the same reservation number before ending the call.When we arrived at the hotel we discovered that our original reservation had not, in fact, been altered in the computer system and that when we did not show up the first night (of the original booking) they cancelled our room for the duration.After standing at the front desk for 15 minutes (being ignored by the second clerk) the clerk returned to inform us that the hotel was completely booked and she recommended we go elsewhere. The hotels she mentioned were all totally out of our price range so completely unhelpful. There seemed to be no recognition that this was THEIR problem to solve, not ours.We ended up staying at the Phoenix Hotel (great place with great ambience and service) which cost more (weekend rates) than the room at the Savoy and we had to alter our dinner reservation at Millennium from 7:30pm to 9:45pm so we had enough time to locate another hotel and move our luggage etc.Overall, very unpleasant/frustrating experience. We lost about 2.5 hours of our day, had to pay for parking at the Savoy while we learned they had screwed up our reservation and paid more for a hotel room than we had budgeted. Grrr.',\n",
       "  u'Date': u'Sep 7, 2005',\n",
       "  u'Ratings': {u'Business service': u'-1',\n",
       "   u'Check in / front desk': u'-1',\n",
       "   u'Cleanliness': u'-1',\n",
       "   u'Location': u'-1',\n",
       "   u'Overall': u'1',\n",
       "   u'Rooms': u'-1',\n",
       "   u'Service': u'-1',\n",
       "   u'Value': u'-1'},\n",
       "  u'ReviewID': u'UR546934560'},\n",
       " {u'Author': u'A TripAdvisor Member',\n",
       "  u'Content': u\"Excellent (aside from one jerk of a hotel clerk) We stayed here a few weeks ago and found it quite charming, save for Nick at the front desk, who checked us in and was suprisingly rude. Not only was he sassy and short with us and any questions we had, but he literally scoffed at us when we explained that we had not made a reservation for the dinner special that came with our room. Besides this, the hotel was old but well kept and cozy. Our room was bright, and the bed was really comfortable. All encounters with other staff members were quite pleasant, as well. A word for the wise: Take advantage of their 2-2-2 special, which includes dinner at the attached restaurant, Millenium, continental breakfast and one night's stay for $200. It was a good deal and the restaurant is amazing. Just remember to make your dinner reservation separate from the hotel reservation. (They don't tell you always.)\",\n",
       "  u'Date': u'Aug 24, 2005',\n",
       "  u'Ratings': {u'Business service': u'-1',\n",
       "   u'Check in / front desk': u'-1',\n",
       "   u'Cleanliness': u'-1',\n",
       "   u'Location': u'-1',\n",
       "   u'Overall': u'4',\n",
       "   u'Rooms': u'-1',\n",
       "   u'Service': u'-1',\n",
       "   u'Value': u'-1'},\n",
       "  u'ReviewID': u'UR118458065'}]"
      ]
     },
     "execution_count": 478,
     "metadata": {},
     "output_type": "execute_result"
    }
   ],
   "source": [
    "single_review[100:103]"
   ]
  },
  {
   "cell_type": "code",
   "execution_count": 684,
   "metadata": {
    "collapsed": false
   },
   "outputs": [],
   "source": [
    "another_reviews = []\n",
    "\n",
    "def populate_reviews_from_json(another_review_details, hotel_info):\n",
    "    global another_reviews\n",
    "    for review in another_review_details:\n",
    "        room = cleanliness = service = value = sleep_quality = rating = 0\n",
    "        author = content = title = author_location = hotel_name = hotelid = ''\n",
    "        \n",
    "        try: room = review['Ratings']['Rooms']\n",
    "        except: pass\n",
    "\n",
    "        try:service = review['Ratings']['Service']\n",
    "        except: pass\n",
    "\n",
    "        try: cleanliness = review['Ratings']['Cleanliness']\n",
    "        except: pass\n",
    "\n",
    "        try: sleep_quality = review['Ratings']['Sleep Quality']\n",
    "        except: pass\n",
    "\n",
    "        try: value = review['Ratings']['Value']\n",
    "        except: pass\n",
    "        \n",
    "        try: rating = review['Ratings']['Overall']\n",
    "        except: pass\n",
    "        \n",
    "        try: author_location = review['AuthorLocation']\n",
    "        except: pass\n",
    "        \n",
    "        try: title = review['Title']\n",
    "        except: pass\n",
    "        \n",
    "        try: author = review['Author'] \n",
    "        except: pass\n",
    "        \n",
    "        try: content = review['Content'] \n",
    "        except: pass\n",
    "        \n",
    "        try: hotelid = hotel_info['HotelID']\n",
    "        except: pass\n",
    "        \n",
    "        try:\n",
    "            if hotelid == \"81363\":\n",
    "                hotel_name = 'Hotel California San Francisco'\n",
    "            else:\n",
    "                hotel_name = hotel_info['Name']\n",
    "        except: pass\n",
    "            \n",
    "        another_reviews.append((author, author_location, content, title, rating\n",
    "                                , cleanliness, room, service, sleep_quality, value, hotel_name, hotelid))"
   ]
  },
  {
   "cell_type": "code",
   "execution_count": 685,
   "metadata": {
    "collapsed": false
   },
   "outputs": [],
   "source": [
    "for x in range(1, 6):\n",
    "    import json\n",
    "    file_pointer = open(\"/Users/mohiulalamprince/Dropbox/nlp-analysis/reviews\" + str(x) + \".json\", \"r\")\n",
    "    print x\n",
    "    lines = file_pointer.readlines()\n",
    "    lines = ''.join(lines)\n",
    "\n",
    "    import string\n",
    "    json_output = json.loads(lines)\n",
    "\n",
    "    another_review_details = json_output['Reviews']\n",
    "    hotel_info = json_output['HotelInfo']\n",
    "    populate_reviews_from_json(another_review_details, hotel_info)"
   ]
  },
  {
   "cell_type": "code",
   "execution_count": 686,
   "metadata": {
    "collapsed": false
   },
   "outputs": [],
   "source": [
    "another_pd = pd.DataFrame(another_reviews, columns=['author', 'location', 'review', 'title', 'rating', 'cleanliness', 'room', 'service', 'sleep_quality', 'value', 'hotel_name', 'hotelid'])"
   ]
  },
  {
   "cell_type": "code",
   "execution_count": 687,
   "metadata": {
    "collapsed": false
   },
   "outputs": [
    {
     "data": {
      "text/html": [
       "<div>\n",
       "<table border=\"1\" class=\"dataframe\">\n",
       "  <thead>\n",
       "    <tr style=\"text-align: right;\">\n",
       "      <th></th>\n",
       "      <th>author</th>\n",
       "      <th>location</th>\n",
       "      <th>review</th>\n",
       "      <th>title</th>\n",
       "      <th>rating</th>\n",
       "      <th>cleanliness</th>\n",
       "      <th>room</th>\n",
       "      <th>service</th>\n",
       "      <th>sleep_quality</th>\n",
       "      <th>value</th>\n",
       "      <th>hotel_name</th>\n",
       "      <th>hotelid</th>\n",
       "    </tr>\n",
       "  </thead>\n",
       "  <tbody>\n",
       "    <tr>\n",
       "      <th>0</th>\n",
       "      <td>amacwow</td>\n",
       "      <td>Philadelphia</td>\n",
       "      <td>Hotel is clean and very close to airport. Staf...</td>\n",
       "      <td>“Excellent location for business travelers sta...</td>\n",
       "      <td>4.0</td>\n",
       "      <td>4</td>\n",
       "      <td>4</td>\n",
       "      <td>4</td>\n",
       "      <td>0</td>\n",
       "      <td>4</td>\n",
       "      <td>Holiday Inn Los Angeles International Airport</td>\n",
       "      <td>77923</td>\n",
       "    </tr>\n",
       "    <tr>\n",
       "      <th>1</th>\n",
       "      <td>robinhenshaw</td>\n",
       "      <td>Rochdale, United Kingdom</td>\n",
       "      <td>Very convenient for LAX (free shuttle). New ve...</td>\n",
       "      <td>“City Centre Holiday Inn”</td>\n",
       "      <td>3.0</td>\n",
       "      <td>4</td>\n",
       "      <td>3</td>\n",
       "      <td>3</td>\n",
       "      <td>4</td>\n",
       "      <td>3</td>\n",
       "      <td>Holiday Inn Los Angeles International Airport</td>\n",
       "      <td>77923</td>\n",
       "    </tr>\n",
       "    <tr>\n",
       "      <th>2</th>\n",
       "      <td>zorro-plata</td>\n",
       "      <td>Dunedin</td>\n",
       "      <td>The thing I like most about Holiday Inn LAX is...</td>\n",
       "      <td>“Value, convenient, but ...”</td>\n",
       "      <td>4.0</td>\n",
       "      <td>4</td>\n",
       "      <td>4</td>\n",
       "      <td>4</td>\n",
       "      <td>5</td>\n",
       "      <td>4</td>\n",
       "      <td>Holiday Inn Los Angeles International Airport</td>\n",
       "      <td>77923</td>\n",
       "    </tr>\n",
       "    <tr>\n",
       "      <th>3</th>\n",
       "      <td>judystoks</td>\n",
       "      <td>Porter, MN</td>\n",
       "      <td>We stayed here one night before taking a cruis...</td>\n",
       "      <td>“Great One Night Stay”</td>\n",
       "      <td>5.0</td>\n",
       "      <td>5</td>\n",
       "      <td>4</td>\n",
       "      <td>5</td>\n",
       "      <td>4</td>\n",
       "      <td>4</td>\n",
       "      <td>Holiday Inn Los Angeles International Airport</td>\n",
       "      <td>77923</td>\n",
       "    </tr>\n",
       "    <tr>\n",
       "      <th>4</th>\n",
       "      <td>Qwik16</td>\n",
       "      <td>Simsbury, Connecticut</td>\n",
       "      <td>This hotel is just minutes away from LAX with ...</td>\n",
       "      <td>“Close to Airport”</td>\n",
       "      <td>3.0</td>\n",
       "      <td>5</td>\n",
       "      <td>4</td>\n",
       "      <td>4</td>\n",
       "      <td>3</td>\n",
       "      <td>5</td>\n",
       "      <td>Holiday Inn Los Angeles International Airport</td>\n",
       "      <td>77923</td>\n",
       "    </tr>\n",
       "    <tr>\n",
       "      <th>5</th>\n",
       "      <td>travelermanPhoenix</td>\n",
       "      <td>Avondale, Arizona</td>\n",
       "      <td>I stay at this hotel a lot. The staff is nice ...</td>\n",
       "      <td>“Airline Crew”</td>\n",
       "      <td>3.0</td>\n",
       "      <td>3</td>\n",
       "      <td>3</td>\n",
       "      <td>5</td>\n",
       "      <td>3</td>\n",
       "      <td>3</td>\n",
       "      <td>Holiday Inn Los Angeles International Airport</td>\n",
       "      <td>77923</td>\n",
       "    </tr>\n",
       "    <tr>\n",
       "      <th>6</th>\n",
       "      <td>TXJones</td>\n",
       "      <td>Dallas, TX</td>\n",
       "      <td>This hotel is good for a one night stay close ...</td>\n",
       "      <td>“Good for a one night stay close to LAX”</td>\n",
       "      <td>3.0</td>\n",
       "      <td>3</td>\n",
       "      <td>3</td>\n",
       "      <td>4</td>\n",
       "      <td>0</td>\n",
       "      <td>3</td>\n",
       "      <td>Holiday Inn Los Angeles International Airport</td>\n",
       "      <td>77923</td>\n",
       "    </tr>\n",
       "    <tr>\n",
       "      <th>7</th>\n",
       "      <td>Franklin J</td>\n",
       "      <td>Houston, Texas</td>\n",
       "      <td>I've been trying to call the hotel for the pas...</td>\n",
       "      <td>“horrible hotel”</td>\n",
       "      <td>1.0</td>\n",
       "      <td>1</td>\n",
       "      <td>1</td>\n",
       "      <td>1</td>\n",
       "      <td>1</td>\n",
       "      <td>1</td>\n",
       "      <td>Holiday Inn Los Angeles International Airport</td>\n",
       "      <td>77923</td>\n",
       "    </tr>\n",
       "    <tr>\n",
       "      <th>8</th>\n",
       "      <td>winkrob92</td>\n",
       "      <td></td>\n",
       "      <td>It's a hit &amp;the miss one week go od another ba...</td>\n",
       "      <td>“Airline Crew”</td>\n",
       "      <td>3.0</td>\n",
       "      <td>3</td>\n",
       "      <td>3</td>\n",
       "      <td>4</td>\n",
       "      <td>0</td>\n",
       "      <td>3</td>\n",
       "      <td>Holiday Inn Los Angeles International Airport</td>\n",
       "      <td>77923</td>\n",
       "    </tr>\n",
       "    <tr>\n",
       "      <th>9</th>\n",
       "      <td>JubilantBeggar</td>\n",
       "      <td>London, United Kingdom</td>\n",
       "      <td>Marginal hotel, but close in proximity to LAX....</td>\n",
       "      <td>“Average hotel, but great for LAX flights”</td>\n",
       "      <td>3.0</td>\n",
       "      <td>4</td>\n",
       "      <td>4</td>\n",
       "      <td>4</td>\n",
       "      <td>3</td>\n",
       "      <td>5</td>\n",
       "      <td>Holiday Inn Los Angeles International Airport</td>\n",
       "      <td>77923</td>\n",
       "    </tr>\n",
       "  </tbody>\n",
       "</table>\n",
       "</div>"
      ],
      "text/plain": [
       "               author                  location  \\\n",
       "0             amacwow              Philadelphia   \n",
       "1        robinhenshaw  Rochdale, United Kingdom   \n",
       "2         zorro-plata                   Dunedin   \n",
       "3           judystoks                Porter, MN   \n",
       "4              Qwik16     Simsbury, Connecticut   \n",
       "5  travelermanPhoenix         Avondale, Arizona   \n",
       "6             TXJones                Dallas, TX   \n",
       "7          Franklin J            Houston, Texas   \n",
       "8           winkrob92                             \n",
       "9      JubilantBeggar    London, United Kingdom   \n",
       "\n",
       "                                              review  \\\n",
       "0  Hotel is clean and very close to airport. Staf...   \n",
       "1  Very convenient for LAX (free shuttle). New ve...   \n",
       "2  The thing I like most about Holiday Inn LAX is...   \n",
       "3  We stayed here one night before taking a cruis...   \n",
       "4  This hotel is just minutes away from LAX with ...   \n",
       "5  I stay at this hotel a lot. The staff is nice ...   \n",
       "6  This hotel is good for a one night stay close ...   \n",
       "7  I've been trying to call the hotel for the pas...   \n",
       "8  It's a hit &the miss one week go od another ba...   \n",
       "9  Marginal hotel, but close in proximity to LAX....   \n",
       "\n",
       "                                               title rating cleanliness room  \\\n",
       "0  “Excellent location for business travelers sta...    4.0           4    4   \n",
       "1                          “City Centre Holiday Inn”    3.0           4    3   \n",
       "2                       “Value, convenient, but ...”    4.0           4    4   \n",
       "3                             “Great One Night Stay”    5.0           5    4   \n",
       "4                                 “Close to Airport”    3.0           5    4   \n",
       "5                                     “Airline Crew”    3.0           3    3   \n",
       "6           “Good for a one night stay close to LAX”    3.0           3    3   \n",
       "7                                   “horrible hotel”    1.0           1    1   \n",
       "8                                     “Airline Crew”    3.0           3    3   \n",
       "9         “Average hotel, but great for LAX flights”    3.0           4    4   \n",
       "\n",
       "  service sleep_quality value                                     hotel_name  \\\n",
       "0       4             0     4  Holiday Inn Los Angeles International Airport   \n",
       "1       3             4     3  Holiday Inn Los Angeles International Airport   \n",
       "2       4             5     4  Holiday Inn Los Angeles International Airport   \n",
       "3       5             4     4  Holiday Inn Los Angeles International Airport   \n",
       "4       4             3     5  Holiday Inn Los Angeles International Airport   \n",
       "5       5             3     3  Holiday Inn Los Angeles International Airport   \n",
       "6       4             0     3  Holiday Inn Los Angeles International Airport   \n",
       "7       1             1     1  Holiday Inn Los Angeles International Airport   \n",
       "8       4             0     3  Holiday Inn Los Angeles International Airport   \n",
       "9       4             3     5  Holiday Inn Los Angeles International Airport   \n",
       "\n",
       "  hotelid  \n",
       "0   77923  \n",
       "1   77923  \n",
       "2   77923  \n",
       "3   77923  \n",
       "4   77923  \n",
       "5   77923  \n",
       "6   77923  \n",
       "7   77923  \n",
       "8   77923  \n",
       "9   77923  "
      ]
     },
     "execution_count": 687,
     "metadata": {},
     "output_type": "execute_result"
    }
   ],
   "source": [
    "another_pd.head(10)"
   ]
  },
  {
   "cell_type": "code",
   "execution_count": 688,
   "metadata": {
    "collapsed": false
   },
   "outputs": [
    {
     "data": {
      "text/plain": [
       "author           1076\n",
       "location         1076\n",
       "review           1076\n",
       "title            1076\n",
       "rating           1076\n",
       "cleanliness      1076\n",
       "room             1076\n",
       "service          1076\n",
       "sleep_quality    1076\n",
       "value            1076\n",
       "hotel_name       1076\n",
       "hotelid          1076\n",
       "dtype: int64"
      ]
     },
     "execution_count": 688,
     "metadata": {},
     "output_type": "execute_result"
    }
   ],
   "source": [
    "another_pd.count()"
   ]
  },
  {
   "cell_type": "code",
   "execution_count": 689,
   "metadata": {
    "collapsed": true
   },
   "outputs": [],
   "source": [
    "word = u\"breakfast\"\n",
    "bf_similars = find_similar_word(word)\n",
    "\n",
    "word = u\"room\"\n",
    "room_similars = find_similar_word(word)\n",
    "\n",
    "word = u\"spa\"\n",
    "spa_similars = find_similar_word(word)\n",
    "\n",
    "def calculate_bf_room_spa_score(review):\n",
    "    global spa_similars\n",
    "    global room_similars\n",
    "    global bf_similars\n",
    "    \n",
    "    document = review\n",
    "    document = unicode(document.decode(\"utf8\"))\n",
    "    document = nlp(document)\n",
    "    cleaned_list = [cleanup(word.string) for word in document if not isNoise(word)]\n",
    "\n",
    "    bf_vocab_list, bf_score = find_score(bf_similars, cleaned_list)\n",
    "    room_vocab_list, room_score = find_score(room_similars, cleaned_list)\n",
    "    spa_vocab_list, spa_score = find_score(spa_similars, cleaned_list)\n",
    "    \n",
    "    return cleaned_list, bf_vocab_list, bf_score, room_vocab_list, room_score, spa_vocab_list, spa_score\n",
    "    \n"
   ]
  },
  {
   "cell_type": "code",
   "execution_count": 690,
   "metadata": {
    "collapsed": false
   },
   "outputs": [],
   "source": [
    "another_pd['cleaned_review'], another_pd['bf_similar_found'], another_pd['bf_similar_score'], another_pd['room_similar_found'], another_pd['room_similar_score'], another_pd['spa_similar_found'], another_pd['spa_similar_score'] = zip(*another_pd['review'].map(calculate_bf_room_spa_score))"
   ]
  },
  {
   "cell_type": "code",
   "execution_count": 691,
   "metadata": {
    "collapsed": false,
    "scrolled": true
   },
   "outputs": [
    {
     "data": {
      "text/html": [
       "<div>\n",
       "<table border=\"1\" class=\"dataframe\">\n",
       "  <thead>\n",
       "    <tr style=\"text-align: right;\">\n",
       "      <th></th>\n",
       "      <th>author</th>\n",
       "      <th>location</th>\n",
       "      <th>review</th>\n",
       "      <th>title</th>\n",
       "      <th>rating</th>\n",
       "      <th>cleanliness</th>\n",
       "      <th>room</th>\n",
       "      <th>service</th>\n",
       "      <th>sleep_quality</th>\n",
       "      <th>value</th>\n",
       "      <th>hotel_name</th>\n",
       "      <th>hotelid</th>\n",
       "      <th>cleaned_review</th>\n",
       "      <th>bf_similar_found</th>\n",
       "      <th>bf_similar_score</th>\n",
       "      <th>room_similar_found</th>\n",
       "      <th>room_similar_score</th>\n",
       "      <th>spa_similar_found</th>\n",
       "      <th>spa_similar_score</th>\n",
       "    </tr>\n",
       "  </thead>\n",
       "  <tbody>\n",
       "    <tr>\n",
       "      <th>0</th>\n",
       "      <td>amacwow</td>\n",
       "      <td>Philadelphia</td>\n",
       "      <td>Hotel is clean and very close to airport. Staf...</td>\n",
       "      <td>“Excellent location for business travelers sta...</td>\n",
       "      <td>4.0</td>\n",
       "      <td>4</td>\n",
       "      <td>4</td>\n",
       "      <td>4</td>\n",
       "      <td>0</td>\n",
       "      <td>4</td>\n",
       "      <td>Holiday Inn Los Angeles International Airport</td>\n",
       "      <td>77923</td>\n",
       "      <td>[hotel, clean, close, airport, staff, helpful,...</td>\n",
       "      <td>[lunch, dinner, restaurant, hotel, eat, breakf...</td>\n",
       "      <td>7</td>\n",
       "      <td>[]</td>\n",
       "      <td>0</td>\n",
       "      <td>[]</td>\n",
       "      <td>0</td>\n",
       "    </tr>\n",
       "    <tr>\n",
       "      <th>1</th>\n",
       "      <td>robinhenshaw</td>\n",
       "      <td>Rochdale, United Kingdom</td>\n",
       "      <td>Very convenient for LAX (free shuttle). New ve...</td>\n",
       "      <td>“City Centre Holiday Inn”</td>\n",
       "      <td>3.0</td>\n",
       "      <td>4</td>\n",
       "      <td>3</td>\n",
       "      <td>3</td>\n",
       "      <td>4</td>\n",
       "      <td>3</td>\n",
       "      <td>Holiday Inn Los Angeles International Airport</td>\n",
       "      <td>77923</td>\n",
       "      <td>[convenient, lax, free, shuttle, new, large, h...</td>\n",
       "      <td>[restaurant, hotel, hotel, breakfast]</td>\n",
       "      <td>4</td>\n",
       "      <td>[room]</td>\n",
       "      <td>1</td>\n",
       "      <td>[]</td>\n",
       "      <td>0</td>\n",
       "    </tr>\n",
       "    <tr>\n",
       "      <th>2</th>\n",
       "      <td>zorro-plata</td>\n",
       "      <td>Dunedin</td>\n",
       "      <td>The thing I like most about Holiday Inn LAX is...</td>\n",
       "      <td>“Value, convenient, but ...”</td>\n",
       "      <td>4.0</td>\n",
       "      <td>4</td>\n",
       "      <td>4</td>\n",
       "      <td>4</td>\n",
       "      <td>5</td>\n",
       "      <td>4</td>\n",
       "      <td>Holiday Inn Los Angeles International Airport</td>\n",
       "      <td>77923</td>\n",
       "      <td>[thing, like, holiday, inn, lax, proximity, pe...</td>\n",
       "      <td>[hotel, eat]</td>\n",
       "      <td>2</td>\n",
       "      <td>[rooms, bed, room, room]</td>\n",
       "      <td>4</td>\n",
       "      <td>[]</td>\n",
       "      <td>0</td>\n",
       "    </tr>\n",
       "    <tr>\n",
       "      <th>3</th>\n",
       "      <td>judystoks</td>\n",
       "      <td>Porter, MN</td>\n",
       "      <td>We stayed here one night before taking a cruis...</td>\n",
       "      <td>“Great One Night Stay”</td>\n",
       "      <td>5.0</td>\n",
       "      <td>5</td>\n",
       "      <td>4</td>\n",
       "      <td>5</td>\n",
       "      <td>4</td>\n",
       "      <td>4</td>\n",
       "      <td>Holiday Inn Los Angeles International Airport</td>\n",
       "      <td>77923</td>\n",
       "      <td>[stayed, night, taking, cruise, joe, outstandi...</td>\n",
       "      <td>[hotel]</td>\n",
       "      <td>1</td>\n",
       "      <td>[desk, room]</td>\n",
       "      <td>2</td>\n",
       "      <td>[]</td>\n",
       "      <td>0</td>\n",
       "    </tr>\n",
       "    <tr>\n",
       "      <th>4</th>\n",
       "      <td>Qwik16</td>\n",
       "      <td>Simsbury, Connecticut</td>\n",
       "      <td>This hotel is just minutes away from LAX with ...</td>\n",
       "      <td>“Close to Airport”</td>\n",
       "      <td>3.0</td>\n",
       "      <td>5</td>\n",
       "      <td>4</td>\n",
       "      <td>4</td>\n",
       "      <td>3</td>\n",
       "      <td>5</td>\n",
       "      <td>Holiday Inn Los Angeles International Airport</td>\n",
       "      <td>77923</td>\n",
       "      <td>[hotel, minutes, away, lax, convenient, shuttl...</td>\n",
       "      <td>[hotel]</td>\n",
       "      <td>1</td>\n",
       "      <td>[hallway, hall, room]</td>\n",
       "      <td>3</td>\n",
       "      <td>[]</td>\n",
       "      <td>0</td>\n",
       "    </tr>\n",
       "  </tbody>\n",
       "</table>\n",
       "</div>"
      ],
      "text/plain": [
       "         author                  location  \\\n",
       "0       amacwow              Philadelphia   \n",
       "1  robinhenshaw  Rochdale, United Kingdom   \n",
       "2   zorro-plata                   Dunedin   \n",
       "3     judystoks                Porter, MN   \n",
       "4        Qwik16     Simsbury, Connecticut   \n",
       "\n",
       "                                              review  \\\n",
       "0  Hotel is clean and very close to airport. Staf...   \n",
       "1  Very convenient for LAX (free shuttle). New ve...   \n",
       "2  The thing I like most about Holiday Inn LAX is...   \n",
       "3  We stayed here one night before taking a cruis...   \n",
       "4  This hotel is just minutes away from LAX with ...   \n",
       "\n",
       "                                               title rating cleanliness room  \\\n",
       "0  “Excellent location for business travelers sta...    4.0           4    4   \n",
       "1                          “City Centre Holiday Inn”    3.0           4    3   \n",
       "2                       “Value, convenient, but ...”    4.0           4    4   \n",
       "3                             “Great One Night Stay”    5.0           5    4   \n",
       "4                                 “Close to Airport”    3.0           5    4   \n",
       "\n",
       "  service sleep_quality value                                     hotel_name  \\\n",
       "0       4             0     4  Holiday Inn Los Angeles International Airport   \n",
       "1       3             4     3  Holiday Inn Los Angeles International Airport   \n",
       "2       4             5     4  Holiday Inn Los Angeles International Airport   \n",
       "3       5             4     4  Holiday Inn Los Angeles International Airport   \n",
       "4       4             3     5  Holiday Inn Los Angeles International Airport   \n",
       "\n",
       "  hotelid                                     cleaned_review  \\\n",
       "0   77923  [hotel, clean, close, airport, staff, helpful,...   \n",
       "1   77923  [convenient, lax, free, shuttle, new, large, h...   \n",
       "2   77923  [thing, like, holiday, inn, lax, proximity, pe...   \n",
       "3   77923  [stayed, night, taking, cruise, joe, outstandi...   \n",
       "4   77923  [hotel, minutes, away, lax, convenient, shuttl...   \n",
       "\n",
       "                                    bf_similar_found  bf_similar_score  \\\n",
       "0  [lunch, dinner, restaurant, hotel, eat, breakf...                 7   \n",
       "1              [restaurant, hotel, hotel, breakfast]                 4   \n",
       "2                                       [hotel, eat]                 2   \n",
       "3                                            [hotel]                 1   \n",
       "4                                            [hotel]                 1   \n",
       "\n",
       "         room_similar_found  room_similar_score spa_similar_found  \\\n",
       "0                        []                   0                []   \n",
       "1                    [room]                   1                []   \n",
       "2  [rooms, bed, room, room]                   4                []   \n",
       "3              [desk, room]                   2                []   \n",
       "4     [hallway, hall, room]                   3                []   \n",
       "\n",
       "   spa_similar_score  \n",
       "0                  0  \n",
       "1                  0  \n",
       "2                  0  \n",
       "3                  0  \n",
       "4                  0  "
      ]
     },
     "execution_count": 691,
     "metadata": {},
     "output_type": "execute_result"
    }
   ],
   "source": [
    "another_pd.head(5)"
   ]
  },
  {
   "cell_type": "code",
   "execution_count": 692,
   "metadata": {
    "collapsed": false
   },
   "outputs": [],
   "source": [
    "groupby_author = another_pd.groupby([\"author\"])"
   ]
  },
  {
   "cell_type": "code",
   "execution_count": 693,
   "metadata": {
    "collapsed": false
   },
   "outputs": [
    {
     "data": {
      "text/plain": [
       "author\n",
       "A TripAdvisor Member    50\n",
       "lass=                    7\n",
       "prada777                 3\n",
       "philf2                   2\n",
       "LittleMissK              2\n",
       "homebody12               2\n",
       "PBLorraine               2\n",
       "holstrav                 2\n",
       "besssie                  2\n",
       "SKBubba                  2\n",
       "rmendell7244             2\n",
       "DogLover86               2\n",
       "bossafin                 2\n",
       "MrsAU                    1\n",
       "MontrealSunseeker        1\n",
       "Niki090                  1\n",
       "Nifferchic               1\n",
       "Nic563                   1\n",
       "NewYorkNYTraveler        1\n",
       "Naturefreak              1\n",
       "Nattravels               1\n",
       "Nachria                  1\n",
       "NYTravelGuy23            1\n",
       "NYCanuck12               1\n",
       "NW8Roamer                1\n",
       "Mykosher                 1\n",
       "NLMLondon_UK             1\n",
       "MrStylz                  1\n",
       "Mycafebar                1\n",
       "MyShores                 1\n",
       "                        ..\n",
       "hairsay                  1\n",
       "fondue1134               1\n",
       "guy999                   1\n",
       "guy15                    1\n",
       "guy b                    1\n",
       "guess07                  1\n",
       "gtahir                   1\n",
       "gskontour                1\n",
       "grez2001                 1\n",
       "greeneyedpirate          1\n",
       "greenbank54              1\n",
       "gonebeyond               1\n",
       "glumball                 1\n",
       "glasgowrus1              1\n",
       "gimme_a_screen_name      1\n",
       "gibsor3                  1\n",
       "georgeta01               1\n",
       "gellura                  1\n",
       "gclark84                 1\n",
       "gc-sidelines             1\n",
       "gascony                  1\n",
       "garypcsc                 1\n",
       "garbo                    1\n",
       "game_misconduct          1\n",
       "gadabouting              1\n",
       "ga2rgirl65               1\n",
       "fuzzypinkbunny           1\n",
       "frannie60                1\n",
       "fordescape11             1\n",
       "021810a                  1\n",
       "Name: counts, dtype: int64"
      ]
     },
     "execution_count": 693,
     "metadata": {},
     "output_type": "execute_result"
    }
   ],
   "source": [
    "groupby_author.size().rename('counts').sort_values(ascending=False)"
   ]
  },
  {
   "cell_type": "code",
   "execution_count": 694,
   "metadata": {
    "collapsed": false
   },
   "outputs": [],
   "source": [
    "breakfast_higherby3 = another_pd[another_pd['bf_similar_score'] > 3].sort_values(['bf_similar_score'], ascending=False)"
   ]
  },
  {
   "cell_type": "code",
   "execution_count": 695,
   "metadata": {
    "collapsed": false
   },
   "outputs": [
    {
     "data": {
      "text/html": [
       "<div>\n",
       "<table border=\"1\" class=\"dataframe\">\n",
       "  <thead>\n",
       "    <tr style=\"text-align: right;\">\n",
       "      <th></th>\n",
       "      <th>author</th>\n",
       "      <th>location</th>\n",
       "      <th>review</th>\n",
       "      <th>title</th>\n",
       "      <th>rating</th>\n",
       "      <th>cleanliness</th>\n",
       "      <th>room</th>\n",
       "      <th>service</th>\n",
       "      <th>sleep_quality</th>\n",
       "      <th>value</th>\n",
       "      <th>hotel_name</th>\n",
       "      <th>hotelid</th>\n",
       "      <th>cleaned_review</th>\n",
       "      <th>bf_similar_found</th>\n",
       "      <th>bf_similar_score</th>\n",
       "      <th>room_similar_found</th>\n",
       "      <th>room_similar_score</th>\n",
       "      <th>spa_similar_found</th>\n",
       "      <th>spa_similar_score</th>\n",
       "    </tr>\n",
       "  </thead>\n",
       "  <tbody>\n",
       "    <tr>\n",
       "      <th>516</th>\n",
       "      <td>Momdemac</td>\n",
       "      <td>Leesburg, Virginia</td>\n",
       "      <td>We stayed at the Shores for two nights on July...</td>\n",
       "      <td>“Book this hotel on hotwire.com. It is beautif...</td>\n",
       "      <td>3.0</td>\n",
       "      <td>5</td>\n",
       "      <td>5</td>\n",
       "      <td>3</td>\n",
       "      <td>0</td>\n",
       "      <td>3</td>\n",
       "      <td>Shores Resort and Spa</td>\n",
       "      <td>84333</td>\n",
       "      <td>[stayed, shores, nights, july, 24, july, booke...</td>\n",
       "      <td>[meal, coffee, coffee, restaurant, restaurant,...</td>\n",
       "      <td>33</td>\n",
       "      <td>[rooms, rooms, desk, bed, bed, bed, house, roo...</td>\n",
       "      <td>24</td>\n",
       "      <td>[spa, spa]</td>\n",
       "      <td>2</td>\n",
       "    </tr>\n",
       "    <tr>\n",
       "      <th>484</th>\n",
       "      <td>stwalke2</td>\n",
       "      <td>Richmond, Virginia</td>\n",
       "      <td>I've stayed at this resort a few times includi...</td>\n",
       "      <td>“Why Stay Anywhere Else?”</td>\n",
       "      <td>5.0</td>\n",
       "      <td>5</td>\n",
       "      <td>5</td>\n",
       "      <td>3</td>\n",
       "      <td>0</td>\n",
       "      <td>4</td>\n",
       "      <td>Shores Resort and Spa</td>\n",
       "      <td>84333</td>\n",
       "      <td>['ve, stayed, resort, times, including, hilton...</td>\n",
       "      <td>[hotel, hotel, hotel, hotel, hotel, hotel, hot...</td>\n",
       "      <td>22</td>\n",
       "      <td>[bed, bed, bed, room, room, room]</td>\n",
       "      <td>6</td>\n",
       "      <td>[]</td>\n",
       "      <td>0</td>\n",
       "    </tr>\n",
       "    <tr>\n",
       "      <th>616</th>\n",
       "      <td>Brugal</td>\n",
       "      <td></td>\n",
       "      <td>Nice Hotel, Great location My wife and I spent...</td>\n",
       "      <td></td>\n",
       "      <td>5</td>\n",
       "      <td>5</td>\n",
       "      <td>4</td>\n",
       "      <td>5</td>\n",
       "      <td>0</td>\n",
       "      <td>5</td>\n",
       "      <td>Hotel California San Francisco</td>\n",
       "      <td>81363</td>\n",
       "      <td>[nice, hotel, great, location, wife, spent, ni...</td>\n",
       "      <td>[dinner, dinner, restaurant, restaurant, hotel...</td>\n",
       "      <td>21</td>\n",
       "      <td>[floor, floor, floor, desk, bed, room]</td>\n",
       "      <td>6</td>\n",
       "      <td>[]</td>\n",
       "      <td>0</td>\n",
       "    </tr>\n",
       "  </tbody>\n",
       "</table>\n",
       "</div>"
      ],
      "text/plain": [
       "       author            location  \\\n",
       "516  Momdemac  Leesburg, Virginia   \n",
       "484  stwalke2  Richmond, Virginia   \n",
       "616    Brugal                       \n",
       "\n",
       "                                                review  \\\n",
       "516  We stayed at the Shores for two nights on July...   \n",
       "484  I've stayed at this resort a few times includi...   \n",
       "616  Nice Hotel, Great location My wife and I spent...   \n",
       "\n",
       "                                                 title rating cleanliness  \\\n",
       "516  “Book this hotel on hotwire.com. It is beautif...    3.0           5   \n",
       "484                          “Why Stay Anywhere Else?”    5.0           5   \n",
       "616                                                         5           5   \n",
       "\n",
       "    room service sleep_quality value                      hotel_name hotelid  \\\n",
       "516    5       3             0     3           Shores Resort and Spa   84333   \n",
       "484    5       3             0     4           Shores Resort and Spa   84333   \n",
       "616    4       5             0     5  Hotel California San Francisco   81363   \n",
       "\n",
       "                                        cleaned_review  \\\n",
       "516  [stayed, shores, nights, july, 24, july, booke...   \n",
       "484  ['ve, stayed, resort, times, including, hilton...   \n",
       "616  [nice, hotel, great, location, wife, spent, ni...   \n",
       "\n",
       "                                      bf_similar_found  bf_similar_score  \\\n",
       "516  [meal, coffee, coffee, restaurant, restaurant,...                33   \n",
       "484  [hotel, hotel, hotel, hotel, hotel, hotel, hot...                22   \n",
       "616  [dinner, dinner, restaurant, restaurant, hotel...                21   \n",
       "\n",
       "                                    room_similar_found  room_similar_score  \\\n",
       "516  [rooms, rooms, desk, bed, bed, bed, house, roo...                  24   \n",
       "484                  [bed, bed, bed, room, room, room]                   6   \n",
       "616             [floor, floor, floor, desk, bed, room]                   6   \n",
       "\n",
       "    spa_similar_found  spa_similar_score  \n",
       "516        [spa, spa]                  2  \n",
       "484                []                  0  \n",
       "616                []                  0  "
      ]
     },
     "execution_count": 695,
     "metadata": {},
     "output_type": "execute_result"
    }
   ],
   "source": [
    "breakfast_higherby3.head(3)"
   ]
  },
  {
   "cell_type": "code",
   "execution_count": 696,
   "metadata": {
    "collapsed": false
   },
   "outputs": [],
   "source": [
    "#number of breakfast score\n",
    "higher_breakfast_score_by_hotel = breakfast_higherby3.groupby(['hotel_name']).size()"
   ]
  },
  {
   "cell_type": "code",
   "execution_count": 697,
   "metadata": {
    "collapsed": false
   },
   "outputs": [
    {
     "data": {
      "text/plain": [
       "hotel_name\n",
       "BEST WESTERN PLUS Eagle Rock Inn                   4\n",
       "Four Seasons Hotel George V Paris                147\n",
       "Holiday Inn Los Angeles International Airport     74\n",
       "Hotel California San Francisco                    57\n",
       "Shores Resort and Spa                            141\n",
       "dtype: int64"
      ]
     },
     "execution_count": 697,
     "metadata": {},
     "output_type": "execute_result"
    }
   ],
   "source": [
    "higher_breakfast_score_by_hotel"
   ]
  },
  {
   "cell_type": "code",
   "execution_count": 698,
   "metadata": {
    "collapsed": true
   },
   "outputs": [],
   "source": [
    "room_higherby3 = another_pd[another_pd['room_similar_score'] > 3].sort_values(['room_similar_score'], ascending=False)"
   ]
  },
  {
   "cell_type": "code",
   "execution_count": 699,
   "metadata": {
    "collapsed": false
   },
   "outputs": [
    {
     "data": {
      "text/html": [
       "<div>\n",
       "<table border=\"1\" class=\"dataframe\">\n",
       "  <thead>\n",
       "    <tr style=\"text-align: right;\">\n",
       "      <th></th>\n",
       "      <th>author</th>\n",
       "      <th>location</th>\n",
       "      <th>review</th>\n",
       "      <th>title</th>\n",
       "      <th>rating</th>\n",
       "      <th>cleanliness</th>\n",
       "      <th>room</th>\n",
       "      <th>service</th>\n",
       "      <th>sleep_quality</th>\n",
       "      <th>value</th>\n",
       "      <th>hotel_name</th>\n",
       "      <th>hotelid</th>\n",
       "      <th>cleaned_review</th>\n",
       "      <th>bf_similar_found</th>\n",
       "      <th>bf_similar_score</th>\n",
       "      <th>room_similar_found</th>\n",
       "      <th>room_similar_score</th>\n",
       "      <th>spa_similar_found</th>\n",
       "      <th>spa_similar_score</th>\n",
       "    </tr>\n",
       "  </thead>\n",
       "  <tbody>\n",
       "    <tr>\n",
       "      <th>612</th>\n",
       "      <td>the_Weiry_traveler</td>\n",
       "      <td></td>\n",
       "      <td>The Good  I recently booked a room for four ni...</td>\n",
       "      <td></td>\n",
       "      <td>2</td>\n",
       "      <td>5</td>\n",
       "      <td>4</td>\n",
       "      <td>3</td>\n",
       "      <td>0</td>\n",
       "      <td>2</td>\n",
       "      <td>Hotel California San Francisco</td>\n",
       "      <td>81363</td>\n",
       "      <td>[good, recently, booked, room, nights, hotel, ...</td>\n",
       "      <td>[coffee, restaurant, hotel, hotel, hotel, hote...</td>\n",
       "      <td>19</td>\n",
       "      <td>[rooms, rooms, rooms, rooms, floor, floor, flo...</td>\n",
       "      <td>47</td>\n",
       "      <td>[]</td>\n",
       "      <td>0</td>\n",
       "    </tr>\n",
       "    <tr>\n",
       "      <th>804</th>\n",
       "      <td>susanPerthAustralia</td>\n",
       "      <td>perth australia</td>\n",
       "      <td>We were so looking forward to our stay here an...</td>\n",
       "      <td>“Really wanted to love this hotel but too many...</td>\n",
       "      <td>2.0</td>\n",
       "      <td>3</td>\n",
       "      <td>0</td>\n",
       "      <td>1</td>\n",
       "      <td>1</td>\n",
       "      <td>1</td>\n",
       "      <td>Four Seasons Hotel George V Paris</td>\n",
       "      <td>2514817</td>\n",
       "      <td>[looking, forward, stay, high, expectations, m...</td>\n",
       "      <td>[meal, meals, coffee, hotel, hotel, hotel, hot...</td>\n",
       "      <td>14</td>\n",
       "      <td>[rooms, rooms, rooms, rooms, rooms, rooms, roo...</td>\n",
       "      <td>29</td>\n",
       "      <td>[spa]</td>\n",
       "      <td>1</td>\n",
       "    </tr>\n",
       "    <tr>\n",
       "      <th>635</th>\n",
       "      <td>starhawk</td>\n",
       "      <td></td>\n",
       "      <td>Charming but a little disappointed My fiance a...</td>\n",
       "      <td></td>\n",
       "      <td>4</td>\n",
       "      <td>3</td>\n",
       "      <td>3</td>\n",
       "      <td>3</td>\n",
       "      <td>0</td>\n",
       "      <td>3</td>\n",
       "      <td>Hotel California San Francisco</td>\n",
       "      <td>81363</td>\n",
       "      <td>[charming, little, disappointed, fiance, staye...</td>\n",
       "      <td>[restaurant, restaurant, restaurant, hotel, ho...</td>\n",
       "      <td>13</td>\n",
       "      <td>[rooms, rooms, rooms, rooms, floor, floor, bat...</td>\n",
       "      <td>27</td>\n",
       "      <td>[]</td>\n",
       "      <td>0</td>\n",
       "    </tr>\n",
       "  </tbody>\n",
       "</table>\n",
       "</div>"
      ],
      "text/plain": [
       "                  author         location  \\\n",
       "612   the_Weiry_traveler                    \n",
       "804  susanPerthAustralia  perth australia   \n",
       "635             starhawk                    \n",
       "\n",
       "                                                review  \\\n",
       "612  The Good  I recently booked a room for four ni...   \n",
       "804  We were so looking forward to our stay here an...   \n",
       "635  Charming but a little disappointed My fiance a...   \n",
       "\n",
       "                                                 title rating cleanliness  \\\n",
       "612                                                         2           5   \n",
       "804  “Really wanted to love this hotel but too many...    2.0           3   \n",
       "635                                                         4           3   \n",
       "\n",
       "    room service sleep_quality value                         hotel_name  \\\n",
       "612    4       3             0     2     Hotel California San Francisco   \n",
       "804    0       1             1     1  Four Seasons Hotel George V Paris   \n",
       "635    3       3             0     3     Hotel California San Francisco   \n",
       "\n",
       "     hotelid                                     cleaned_review  \\\n",
       "612    81363  [good, recently, booked, room, nights, hotel, ...   \n",
       "804  2514817  [looking, forward, stay, high, expectations, m...   \n",
       "635    81363  [charming, little, disappointed, fiance, staye...   \n",
       "\n",
       "                                      bf_similar_found  bf_similar_score  \\\n",
       "612  [coffee, restaurant, hotel, hotel, hotel, hote...                19   \n",
       "804  [meal, meals, coffee, hotel, hotel, hotel, hot...                14   \n",
       "635  [restaurant, restaurant, restaurant, hotel, ho...                13   \n",
       "\n",
       "                                    room_similar_found  room_similar_score  \\\n",
       "612  [rooms, rooms, rooms, rooms, floor, floor, flo...                  47   \n",
       "804  [rooms, rooms, rooms, rooms, rooms, rooms, roo...                  29   \n",
       "635  [rooms, rooms, rooms, rooms, floor, floor, bat...                  27   \n",
       "\n",
       "    spa_similar_found  spa_similar_score  \n",
       "612                []                  0  \n",
       "804             [spa]                  1  \n",
       "635                []                  0  "
      ]
     },
     "execution_count": 699,
     "metadata": {},
     "output_type": "execute_result"
    }
   ],
   "source": [
    "room_higherby3.head(3)"
   ]
  },
  {
   "cell_type": "code",
   "execution_count": 700,
   "metadata": {
    "collapsed": false
   },
   "outputs": [
    {
     "data": {
      "text/plain": [
       "hotelid  hotel_name                                   \n",
       "2514817  Four Seasons Hotel George V Paris                104\n",
       "76790    BEST WESTERN PLUS Eagle Rock Inn                   6\n",
       "77923    Holiday Inn Los Angeles International Airport     76\n",
       "81363    Hotel California San Francisco                    70\n",
       "84333    Shores Resort and Spa                            156\n",
       "dtype: int64"
      ]
     },
     "execution_count": 700,
     "metadata": {},
     "output_type": "execute_result"
    }
   ],
   "source": [
    "#number of room score\n",
    "room_higherby3.groupby(['hotelid', 'hotel_name']).size()"
   ]
  },
  {
   "cell_type": "code",
   "execution_count": 701,
   "metadata": {
    "collapsed": false
   },
   "outputs": [],
   "source": [
    "#find out the bad and good review\n",
    "#simple way to findout the bad and good review\n",
    "\n",
    "good_reviews = another_pd[(another_pd['rating'] > \"3.0\") & (another_pd['bf_similar_score'] > 3)].groupby(['hotelid', 'hotel_name']).size()"
   ]
  },
  {
   "cell_type": "code",
   "execution_count": 702,
   "metadata": {
    "collapsed": false
   },
   "outputs": [
    {
     "data": {
      "text/plain": [
       "hotelid  hotel_name                                   \n",
       "2514817  Four Seasons Hotel George V Paris                130\n",
       "76790    BEST WESTERN PLUS Eagle Rock Inn                   3\n",
       "77923    Holiday Inn Los Angeles International Airport     36\n",
       "81363    Hotel California San Francisco                    34\n",
       "84333    Shores Resort and Spa                            109\n",
       "dtype: int64"
      ]
     },
     "execution_count": 702,
     "metadata": {},
     "output_type": "execute_result"
    }
   ],
   "source": [
    "good_reviews"
   ]
  },
  {
   "cell_type": "code",
   "execution_count": 703,
   "metadata": {
    "collapsed": true
   },
   "outputs": [],
   "source": [
    "bad_reviews = another_pd[(another_pd['rating'] < \"3.0\") & (another_pd['bf_similar_score'] > 3)].groupby(['hotelid', 'hotel_name']).size()"
   ]
  },
  {
   "cell_type": "code",
   "execution_count": 704,
   "metadata": {
    "collapsed": false
   },
   "outputs": [
    {
     "data": {
      "text/plain": [
       "hotelid  hotel_name                                   \n",
       "2514817  Four Seasons Hotel George V Paris                12\n",
       "77923    Holiday Inn Los Angeles International Airport    26\n",
       "81363    Hotel California San Francisco                   23\n",
       "84333    Shores Resort and Spa                            15\n",
       "dtype: int64"
      ]
     },
     "execution_count": 704,
     "metadata": {},
     "output_type": "execute_result"
    }
   ],
   "source": [
    "bad_reviews"
   ]
  },
  {
   "cell_type": "code",
   "execution_count": 705,
   "metadata": {
    "collapsed": false
   },
   "outputs": [],
   "source": [
    "moderate_reviews = another_pd[(another_pd['rating'] == \"3.0\") & (another_pd['bf_similar_score'] > 3)].groupby(['hotelid', 'hotel_name']).size()"
   ]
  },
  {
   "cell_type": "code",
   "execution_count": 706,
   "metadata": {
    "collapsed": false
   },
   "outputs": [
    {
     "data": {
      "text/plain": [
       "hotelid  hotel_name                                   \n",
       "2514817  Four Seasons Hotel George V Paris                 5\n",
       "76790    BEST WESTERN PLUS Eagle Rock Inn                  1\n",
       "77923    Holiday Inn Los Angeles International Airport    12\n",
       "84333    Shores Resort and Spa                            17\n",
       "dtype: int64"
      ]
     },
     "execution_count": 706,
     "metadata": {},
     "output_type": "execute_result"
    }
   ],
   "source": [
    "moderate_reviews"
   ]
  },
  {
   "cell_type": "code",
   "execution_count": 707,
   "metadata": {
    "collapsed": false
   },
   "outputs": [],
   "source": [
    "another_pd['is_positive_rating'] = (another_pd['rating'] > \"3.0\")"
   ]
  },
  {
   "cell_type": "code",
   "execution_count": 708,
   "metadata": {
    "collapsed": false
   },
   "outputs": [
    {
     "data": {
      "text/plain": [
       "0     True\n",
       "1    False\n",
       "2     True\n",
       "3     True\n",
       "4    False\n",
       "5    False\n",
       "6    False\n",
       "7    False\n",
       "8    False\n",
       "9    False\n",
       "Name: is_positive_rating, dtype: bool"
      ]
     },
     "execution_count": 708,
     "metadata": {},
     "output_type": "execute_result"
    }
   ],
   "source": [
    "another_pd['is_positive_rating'].head(10)"
   ]
  },
  {
   "cell_type": "code",
   "execution_count": 709,
   "metadata": {
    "collapsed": false
   },
   "outputs": [],
   "source": [
    "import matplotlib.pyplot as plt\n",
    "import plotly.plotly as py\n"
   ]
  },
  {
   "cell_type": "code",
   "execution_count": 710,
   "metadata": {
    "collapsed": false
   },
   "outputs": [],
   "source": [
    "from numpy  import array\n",
    "import numpy as np"
   ]
  },
  {
   "cell_type": "code",
   "execution_count": 711,
   "metadata": {
    "collapsed": false
   },
   "outputs": [
    {
     "data": {
      "text/plain": [
       "array([ 4.,  4.,  5.,  2.,  1.,  1.,  5.,  5.,  2.,  2.,  2.,  4.,  4.,\n",
       "        5.,  3.,  1.,  2.,  4.,  5.,  4.,  3.,  4.,  2.,  4.,  1.,  4.,\n",
       "        3.,  5.,  5.,  3.,  4.,  4.,  4.,  4.,  3.,  5.,  2.,  4.,  1.,\n",
       "        5.,  5.,  3.,  4.,  5.,  4.,  4.,  5.,  2.,  4.,  5.,  4.,  5.,\n",
       "        4.,  4.,  4.,  4.,  4.,  5.,  4.,  4.,  5.,  3.,  2.,  1.,  4.,\n",
       "        4.,  4.,  4.,  4.,  4.,  4.,  5.,  5.,  2.,  5.,  4.,  4.,  5.,\n",
       "        4.,  4.,  4.,  5.,  3.,  3.,  3.,  3.,  3.,  5.,  4.,  5.,  2.,\n",
       "        3.,  4.,  4.,  3.,  2.,  4.,  2.,  4.,  1.,  4.,  1.,  4.,  2.,\n",
       "        3.,  3.,  2.,  4.,  3.,  1.,  2.,  5.,  4.,  3.,  1.,  4.,  4.,\n",
       "        3.,  4.,  4.,  2.,  4.,  1.,  5.,  2.,  3.,  4.,  4.,  4.,  4.,\n",
       "        4.,  4.,  4.,  1.,  4.,  4.,  2.,  4.,  3.,  4.,  4.,  4.])"
      ]
     },
     "execution_count": 711,
     "metadata": {},
     "output_type": "execute_result"
    }
   ],
   "source": [
    "rating = another_pd[another_pd['hotelid'] == '81363']['rating'].astype('float64') \n",
    "rating = array( rating )\n",
    "rating"
   ]
  },
  {
   "cell_type": "code",
   "execution_count": 712,
   "metadata": {
    "collapsed": false
   },
   "outputs": [
    {
     "data": {
      "image/png": "[encoded data removed]",
      "text/plain": [
       "<matplotlib.figure.Figure at 0x11542dc90>"
      ]
     },
     "metadata": {},
     "output_type": "display_data"
    }
   ],
   "source": [
    "plt.hist(rating)\n",
    "plt.title(\"Rating Histogram\")\n",
    "plt.xlabel(\"rating\")\n",
    "plt.ylabel(\"Frequency\")\n",
    "plt.show()"
   ]
  },
  {
   "cell_type": "code",
   "execution_count": 713,
   "metadata": {
    "collapsed": false
   },
   "outputs": [
    {
     "data": {
      "image/png": "[encoded data removed]",
      "text/plain": [
       "<matplotlib.figure.Figure at 0x1156323d0>"
      ]
     },
     "metadata": {},
     "output_type": "display_data"
    }
   ],
   "source": [
    "rating = another_pd[another_pd['hotelid'] == '84333']['rating'].astype('float64') \n",
    "rating = array( rating )\n",
    "plt.hist(rating)\n",
    "plt.title(\"Rating Histogram\")\n",
    "plt.xlabel(\"rating\")\n",
    "plt.ylabel(\"Frequency\")\n",
    "plt.show()"
   ]
  },
  {
   "cell_type": "code",
   "execution_count": 714,
   "metadata": {
    "collapsed": true
   },
   "outputs": [],
   "source": [
    "file_pointer = open(\"/Users/mohiulalamprince/Dropbox/nlp-analysis/semantics.json\", \"r\")\n",
    "\n",
    "lines = file_pointer.readlines()\n",
    "lines = ''.join(lines)\n",
    "\n",
    "sentiments = json.loads(lines)"
   ]
  },
  {
   "cell_type": "code",
   "execution_count": 715,
   "metadata": {
    "collapsed": false
   },
   "outputs": [
    {
     "data": {
      "text/plain": [
       "[{u'multiplier': 2, u'phrase': u'very'},\n",
       " {u'multiplier': 2, u'phrase': u'really'},\n",
       " {u'multiplier': 1.2, u'phrase': u'somewhat'},\n",
       " {u'multiplier': 1.5, u'phrase': u'quite'},\n",
       " {u'multiplier': 1.5, u'phrase': u'rather'},\n",
       " {u'multiplier': 2.5, u'phrase': u'immensely'},\n",
       " {u'multiplier': -1, u'phrase': u'not'},\n",
       " {u'multiplier': 2.5, u'phrase': u'absolutely'},\n",
       " {u'multiplier': 1.5, u'phrase': u'distinctly'},\n",
       " {u'multiplier': 2, u'phrase': u'greatly'},\n",
       " {u'multiplier': 2, u'phrase': u'unbelievably'},\n",
       " {u'multiplier': -0.5, u'phrase': u'almost'},\n",
       " {u'multiplier': 2, u'phrase': u'way'}]"
      ]
     },
     "execution_count": 715,
     "metadata": {},
     "output_type": "execute_result"
    }
   ],
   "source": [
    "sentiments['intensifier']"
   ]
  },
  {
   "cell_type": "code",
   "execution_count": 716,
   "metadata": {
    "collapsed": false
   },
   "outputs": [
    {
     "data": {
      "text/plain": [
       "[{u'phrase': u'great', u'value': 2},\n",
       " {u'phrase': u'good', u'value': 1},\n",
       " {u'phrase': u'nice', u'value': 1},\n",
       " {u'phrase': u'amazing', u'value': 2},\n",
       " {u'phrase': u'careful', u'value': 1},\n",
       " {u'phrase': u'well', u'value': 1},\n",
       " {u'phrase': u'helpful', u'value': 1},\n",
       " {u'phrase': u'friendly', u'value': 1},\n",
       " {u'phrase': u'clean', u'value': 1},\n",
       " {u'phrase': u'easy', u'value': 1},\n",
       " {u'phrase': u'excellent', u'value': 2},\n",
       " {u'phrase': u'top', u'value': 2},\n",
       " {u'phrase': u'superb', u'value': 2},\n",
       " {u'phrase': u'fantastic', u'value': 2},\n",
       " {u'phrase': u'best', u'value': 2},\n",
       " {u'phrase': u'comfortable', u'value': 1},\n",
       " {u'phrase': u'perfect', u'value': 2},\n",
       " {u'phrase': u'love', u'value': 2},\n",
       " {u'phrase': u'going to come back', u'value': 1},\n",
       " {u'phrase': u'made our stay', u'value': 1},\n",
       " {u'phrase': u'was fun', u'value': 1},\n",
       " {u'phrase': u'bad', u'value': 1}]"
      ]
     },
     "execution_count": 716,
     "metadata": {},
     "output_type": "execute_result"
    }
   ],
   "source": [
    "sentiments['positive']"
   ]
  },
  {
   "cell_type": "code",
   "execution_count": 717,
   "metadata": {
    "collapsed": false
   },
   "outputs": [
    {
     "data": {
      "text/plain": [
       "[{u'phrase': u'problem', u'value': 1},\n",
       " {u'phrase': u'unfriendly', u'value': 1},\n",
       " {u'phrase': u'horrible', u'value': 2},\n",
       " {u'phrase': u'unsupported', u'value': 1},\n",
       " {u'phrase': u'average', u'value': 1},\n",
       " {u'phrase': u'dirty', u'value': 1},\n",
       " {u'phrase': u'negative', u'value': 1},\n",
       " {u'phrase': u'unsupported', u'value': 1},\n",
       " {u'phrase': u'hell', u'value': 2},\n",
       " {u'phrase': u\"didn't work\", u'value': 1},\n",
       " {u'phrase': u'ancient', u'value': 1},\n",
       " {u'phrase': u'cold', u'value': 1},\n",
       " {u'phrase': u'tiny', u'value': 1},\n",
       " {u'phrase': u'small', u'value': 1},\n",
       " {u'phrase': u'hard', u'value': 1},\n",
       " {u'phrase': u'uncomfortable', u'value': 1},\n",
       " {u'phrase': u'torn', u'value': 1},\n",
       " {u'phrase': u'stay away', u'value': 2},\n",
       " {u'phrase': u'old', u'value': 1},\n",
       " {u'phrase': u'decrepit', u'value': 1},\n",
       " {u'phrase': u'terrible', u'value': 2},\n",
       " {u'phrase': u'broken', u'value': 1},\n",
       " {u'phrase': u'junk', u'value': 1},\n",
       " {u'phrase': u'awful', u'value': 2},\n",
       " {u'phrase': u'worst', u'value': 2},\n",
       " {u'phrase': u'disgusting', u'value': 2},\n",
       " {u'phrase': u'falling out', u'value': 1},\n",
       " {u'phrase': u'nightmare', u'value': 2},\n",
       " {u'phrase': u'freezing', u'value': 1},\n",
       " {u'phrase': u\"didn't sleep\", u'value': 2},\n",
       " {u'phrase': u'rude', u'value': 1},\n",
       " {u'phrase': u'undisciplined', u'value': 1},\n",
       " {u'phrase': u'fell off', u'value': 1},\n",
       " {u'phrase': u'rotten', u'value': 1},\n",
       " {u'phrase': u'mess', u'value': 1},\n",
       " {u'phrase': u'surly', u'value': 1},\n",
       " {u'phrase': u'never', u'value': 1},\n",
       " {u'phrase': u'not going to come back', u'value': 2}]"
      ]
     },
     "execution_count": 717,
     "metadata": {},
     "output_type": "execute_result"
    }
   ],
   "source": [
    "sentiments['negative']"
   ]
  },
  {
   "cell_type": "code",
   "execution_count": 723,
   "metadata": {
    "collapsed": false
   },
   "outputs": [],
   "source": [
    "test_pd = another_pd.head(5)"
   ]
  },
  {
   "cell_type": "code",
   "execution_count": 762,
   "metadata": {
    "collapsed": false
   },
   "outputs": [],
   "source": [
    "def bigram_analysis(sentence_token):\n",
    "    from nltk import ngrams\n",
    "    sentence = 'this is a foo bar sentences and i want to ngramize it'\n",
    "    n = 2\n",
    "    twograms = ngrams(sentence_token, n)\n",
    "    return [grams for grams in twograms]\n",
    "\n",
    "another_pd['twograms'] = another_pd['cleaned_review'].map(bigram_analysis)"
   ]
  },
  {
   "cell_type": "code",
   "execution_count": 763,
   "metadata": {
    "collapsed": false
   },
   "outputs": [
    {
     "data": {
      "text/html": [
       "<div>\n",
       "<table border=\"1\" class=\"dataframe\">\n",
       "  <thead>\n",
       "    <tr style=\"text-align: right;\">\n",
       "      <th></th>\n",
       "      <th>author</th>\n",
       "      <th>location</th>\n",
       "      <th>review</th>\n",
       "      <th>title</th>\n",
       "      <th>rating</th>\n",
       "      <th>cleanliness</th>\n",
       "      <th>room</th>\n",
       "      <th>service</th>\n",
       "      <th>sleep_quality</th>\n",
       "      <th>value</th>\n",
       "      <th>...</th>\n",
       "      <th>hotelid</th>\n",
       "      <th>cleaned_review</th>\n",
       "      <th>bf_similar_found</th>\n",
       "      <th>bf_similar_score</th>\n",
       "      <th>room_similar_found</th>\n",
       "      <th>room_similar_score</th>\n",
       "      <th>spa_similar_found</th>\n",
       "      <th>spa_similar_score</th>\n",
       "      <th>is_positive_rating</th>\n",
       "      <th>twograms</th>\n",
       "    </tr>\n",
       "  </thead>\n",
       "  <tbody>\n",
       "    <tr>\n",
       "      <th>0</th>\n",
       "      <td>amacwow</td>\n",
       "      <td>Philadelphia</td>\n",
       "      <td>Hotel is clean and very close to airport. Staf...</td>\n",
       "      <td>“Excellent location for business travelers sta...</td>\n",
       "      <td>4.0</td>\n",
       "      <td>4</td>\n",
       "      <td>4</td>\n",
       "      <td>4</td>\n",
       "      <td>0</td>\n",
       "      <td>4</td>\n",
       "      <td>...</td>\n",
       "      <td>77923</td>\n",
       "      <td>[hotel, clean, close, airport, staff, helpful,...</td>\n",
       "      <td>[lunch, dinner, restaurant, hotel, eat, breakf...</td>\n",
       "      <td>7</td>\n",
       "      <td>[]</td>\n",
       "      <td>0</td>\n",
       "      <td>[]</td>\n",
       "      <td>0</td>\n",
       "      <td>True</td>\n",
       "      <td>[(hotel, clean), (clean, close), (close, airpo...</td>\n",
       "    </tr>\n",
       "    <tr>\n",
       "      <th>1</th>\n",
       "      <td>robinhenshaw</td>\n",
       "      <td>Rochdale, United Kingdom</td>\n",
       "      <td>Very convenient for LAX (free shuttle). New ve...</td>\n",
       "      <td>“City Centre Holiday Inn”</td>\n",
       "      <td>3.0</td>\n",
       "      <td>4</td>\n",
       "      <td>3</td>\n",
       "      <td>3</td>\n",
       "      <td>4</td>\n",
       "      <td>3</td>\n",
       "      <td>...</td>\n",
       "      <td>77923</td>\n",
       "      <td>[convenient, lax, free, shuttle, new, large, h...</td>\n",
       "      <td>[restaurant, hotel, hotel, breakfast]</td>\n",
       "      <td>4</td>\n",
       "      <td>[room]</td>\n",
       "      <td>1</td>\n",
       "      <td>[]</td>\n",
       "      <td>0</td>\n",
       "      <td>False</td>\n",
       "      <td>[(convenient, lax), (lax, free), (free, shuttl...</td>\n",
       "    </tr>\n",
       "    <tr>\n",
       "      <th>2</th>\n",
       "      <td>zorro-plata</td>\n",
       "      <td>Dunedin</td>\n",
       "      <td>The thing I like most about Holiday Inn LAX is...</td>\n",
       "      <td>“Value, convenient, but ...”</td>\n",
       "      <td>4.0</td>\n",
       "      <td>4</td>\n",
       "      <td>4</td>\n",
       "      <td>4</td>\n",
       "      <td>5</td>\n",
       "      <td>4</td>\n",
       "      <td>...</td>\n",
       "      <td>77923</td>\n",
       "      <td>[thing, like, holiday, inn, lax, proximity, pe...</td>\n",
       "      <td>[hotel, eat]</td>\n",
       "      <td>2</td>\n",
       "      <td>[rooms, bed, room, room]</td>\n",
       "      <td>4</td>\n",
       "      <td>[]</td>\n",
       "      <td>0</td>\n",
       "      <td>True</td>\n",
       "      <td>[(thing, like), (like, holiday), (holiday, inn...</td>\n",
       "    </tr>\n",
       "    <tr>\n",
       "      <th>3</th>\n",
       "      <td>judystoks</td>\n",
       "      <td>Porter, MN</td>\n",
       "      <td>We stayed here one night before taking a cruis...</td>\n",
       "      <td>“Great One Night Stay”</td>\n",
       "      <td>5.0</td>\n",
       "      <td>5</td>\n",
       "      <td>4</td>\n",
       "      <td>5</td>\n",
       "      <td>4</td>\n",
       "      <td>4</td>\n",
       "      <td>...</td>\n",
       "      <td>77923</td>\n",
       "      <td>[stayed, night, taking, cruise, joe, outstandi...</td>\n",
       "      <td>[hotel]</td>\n",
       "      <td>1</td>\n",
       "      <td>[desk, room]</td>\n",
       "      <td>2</td>\n",
       "      <td>[]</td>\n",
       "      <td>0</td>\n",
       "      <td>True</td>\n",
       "      <td>[(stayed, night), (night, taking), (taking, cr...</td>\n",
       "    </tr>\n",
       "    <tr>\n",
       "      <th>4</th>\n",
       "      <td>Qwik16</td>\n",
       "      <td>Simsbury, Connecticut</td>\n",
       "      <td>This hotel is just minutes away from LAX with ...</td>\n",
       "      <td>“Close to Airport”</td>\n",
       "      <td>3.0</td>\n",
       "      <td>5</td>\n",
       "      <td>4</td>\n",
       "      <td>4</td>\n",
       "      <td>3</td>\n",
       "      <td>5</td>\n",
       "      <td>...</td>\n",
       "      <td>77923</td>\n",
       "      <td>[hotel, minutes, away, lax, convenient, shuttl...</td>\n",
       "      <td>[hotel]</td>\n",
       "      <td>1</td>\n",
       "      <td>[hallway, hall, room]</td>\n",
       "      <td>3</td>\n",
       "      <td>[]</td>\n",
       "      <td>0</td>\n",
       "      <td>False</td>\n",
       "      <td>[(hotel, minutes), (minutes, away), (away, lax...</td>\n",
       "    </tr>\n",
       "  </tbody>\n",
       "</table>\n",
       "<p>5 rows × 21 columns</p>\n",
       "</div>"
      ],
      "text/plain": [
       "         author                  location  \\\n",
       "0       amacwow              Philadelphia   \n",
       "1  robinhenshaw  Rochdale, United Kingdom   \n",
       "2   zorro-plata                   Dunedin   \n",
       "3     judystoks                Porter, MN   \n",
       "4        Qwik16     Simsbury, Connecticut   \n",
       "\n",
       "                                              review  \\\n",
       "0  Hotel is clean and very close to airport. Staf...   \n",
       "1  Very convenient for LAX (free shuttle). New ve...   \n",
       "2  The thing I like most about Holiday Inn LAX is...   \n",
       "3  We stayed here one night before taking a cruis...   \n",
       "4  This hotel is just minutes away from LAX with ...   \n",
       "\n",
       "                                               title rating cleanliness room  \\\n",
       "0  “Excellent location for business travelers sta...    4.0           4    4   \n",
       "1                          “City Centre Holiday Inn”    3.0           4    3   \n",
       "2                       “Value, convenient, but ...”    4.0           4    4   \n",
       "3                             “Great One Night Stay”    5.0           5    4   \n",
       "4                                 “Close to Airport”    3.0           5    4   \n",
       "\n",
       "  service sleep_quality value  \\\n",
       "0       4             0     4   \n",
       "1       3             4     3   \n",
       "2       4             5     4   \n",
       "3       5             4     4   \n",
       "4       4             3     5   \n",
       "\n",
       "                         ...                         hotelid  \\\n",
       "0                        ...                           77923   \n",
       "1                        ...                           77923   \n",
       "2                        ...                           77923   \n",
       "3                        ...                           77923   \n",
       "4                        ...                           77923   \n",
       "\n",
       "                                      cleaned_review  \\\n",
       "0  [hotel, clean, close, airport, staff, helpful,...   \n",
       "1  [convenient, lax, free, shuttle, new, large, h...   \n",
       "2  [thing, like, holiday, inn, lax, proximity, pe...   \n",
       "3  [stayed, night, taking, cruise, joe, outstandi...   \n",
       "4  [hotel, minutes, away, lax, convenient, shuttl...   \n",
       "\n",
       "                                    bf_similar_found bf_similar_score  \\\n",
       "0  [lunch, dinner, restaurant, hotel, eat, breakf...                7   \n",
       "1              [restaurant, hotel, hotel, breakfast]                4   \n",
       "2                                       [hotel, eat]                2   \n",
       "3                                            [hotel]                1   \n",
       "4                                            [hotel]                1   \n",
       "\n",
       "         room_similar_found room_similar_score  spa_similar_found  \\\n",
       "0                        []                  0                 []   \n",
       "1                    [room]                  1                 []   \n",
       "2  [rooms, bed, room, room]                  4                 []   \n",
       "3              [desk, room]                  2                 []   \n",
       "4     [hallway, hall, room]                  3                 []   \n",
       "\n",
       "  spa_similar_score  is_positive_rating  \\\n",
       "0                 0                True   \n",
       "1                 0               False   \n",
       "2                 0                True   \n",
       "3                 0                True   \n",
       "4                 0               False   \n",
       "\n",
       "                                            twograms  \n",
       "0  [(hotel, clean), (clean, close), (close, airpo...  \n",
       "1  [(convenient, lax), (lax, free), (free, shuttl...  \n",
       "2  [(thing, like), (like, holiday), (holiday, inn...  \n",
       "3  [(stayed, night), (night, taking), (taking, cr...  \n",
       "4  [(hotel, minutes), (minutes, away), (away, lax...  \n",
       "\n",
       "[5 rows x 21 columns]"
      ]
     },
     "execution_count": 763,
     "metadata": {},
     "output_type": "execute_result"
    }
   ],
   "source": [
    "another_pd.head()"
   ]
  },
  {
   "cell_type": "code",
   "execution_count": 801,
   "metadata": {
    "collapsed": false
   },
   "outputs": [],
   "source": [
    "def intensifier_found(word):\n",
    "    for sentiment in sentiments['intensifier']:\n",
    "        if word.startswith(sentiment['phrase']):\n",
    "            return -1 * sentiment['multiplier']\n",
    "    return 1\n",
    "\n",
    "def review_pos_score(twograms):\n",
    "    score = 0\n",
    "    pos_phrase = []\n",
    "    for twogram in twograms:\n",
    "        first, second = twogram\n",
    "        for pos_sentiment in sentiments['positive']:\n",
    "            if second.startswith(pos_sentiment['phrase']): \n",
    "                score += (pos_sentiment['value'] * intensifier_found(first))\n",
    "                pos_phrase.append(pos_sentiment['phrase'])\n",
    "\n",
    "    return pos_phrase, score\n",
    "\n",
    "def review_neg_score(twograms):\n",
    "    score = 0\n",
    "    neg_phrase = []\n",
    "    for twogram in twograms:\n",
    "        first, second = twogram\n",
    "        for neg_sentiment in sentiments['negative']:\n",
    "            if second.startswith(neg_sentiment['phrase']): \n",
    "                score += (neg_sentiment['value'] * intensifier_found(first))\n",
    "                neg_phrase.append(neg_sentiment['phrase'])\n",
    "    return neg_phrase, -1 * score"
   ]
  },
  {
   "cell_type": "code",
   "execution_count": 802,
   "metadata": {
    "collapsed": false
   },
   "outputs": [],
   "source": [
    "another_pd['pos_phrase'], another_pd['pos_score'] = zip(*another_pd['twograms'].map(review_pos_score))"
   ]
  },
  {
   "cell_type": "code",
   "execution_count": 803,
   "metadata": {
    "collapsed": false
   },
   "outputs": [],
   "source": [
    "another_pd['neg_phrase'], another_pd['neg_score'] = zip(*another_pd['twograms'].map(review_neg_score))"
   ]
  },
  {
   "cell_type": "code",
   "execution_count": 804,
   "metadata": {
    "collapsed": false
   },
   "outputs": [
    {
     "data": {
      "text/plain": [
       "hotelid  hotel_name                                   \n",
       "2514817  Four Seasons Hotel George V Paris                41\n",
       "77923    Holiday Inn Los Angeles International Airport     6\n",
       "81363    Hotel California San Francisco                   21\n",
       "84333    Shores Resort and Spa                            57\n",
       "dtype: int64"
      ]
     },
     "execution_count": 804,
     "metadata": {},
     "output_type": "execute_result"
    }
   ],
   "source": [
    "another_pd[another_pd['pos_score'] > 10].groupby(['hotelid', 'hotel_name']).size()"
   ]
  },
  {
   "cell_type": "code",
   "execution_count": 805,
   "metadata": {
    "collapsed": false
   },
   "outputs": [
    {
     "data": {
      "text/html": [
       "<div>\n",
       "<table border=\"1\" class=\"dataframe\">\n",
       "  <thead>\n",
       "    <tr style=\"text-align: right;\">\n",
       "      <th></th>\n",
       "      <th></th>\n",
       "      <th>bf_similar_score</th>\n",
       "      <th>room_similar_score</th>\n",
       "      <th>spa_similar_score</th>\n",
       "      <th>is_positive_rating</th>\n",
       "      <th>pos_score</th>\n",
       "      <th>neg_score</th>\n",
       "    </tr>\n",
       "    <tr>\n",
       "      <th>hotelid</th>\n",
       "      <th>hotel_name</th>\n",
       "      <th></th>\n",
       "      <th></th>\n",
       "      <th></th>\n",
       "      <th></th>\n",
       "      <th></th>\n",
       "      <th></th>\n",
       "    </tr>\n",
       "  </thead>\n",
       "  <tbody>\n",
       "    <tr>\n",
       "      <th>84333</th>\n",
       "      <th>Shores Resort and Spa</th>\n",
       "      <td>415</td>\n",
       "      <td>368</td>\n",
       "      <td>29</td>\n",
       "      <td>53.0</td>\n",
       "      <td>844.0</td>\n",
       "      <td>-73.0</td>\n",
       "    </tr>\n",
       "    <tr>\n",
       "      <th>2514817</th>\n",
       "      <th>Four Seasons Hotel George V Paris</th>\n",
       "      <td>341</td>\n",
       "      <td>250</td>\n",
       "      <td>44</td>\n",
       "      <td>41.0</td>\n",
       "      <td>604.0</td>\n",
       "      <td>-62.0</td>\n",
       "    </tr>\n",
       "    <tr>\n",
       "      <th>81363</th>\n",
       "      <th>Hotel California San Francisco</th>\n",
       "      <td>199</td>\n",
       "      <td>173</td>\n",
       "      <td>1</td>\n",
       "      <td>15.0</td>\n",
       "      <td>287.0</td>\n",
       "      <td>-37.8</td>\n",
       "    </tr>\n",
       "    <tr>\n",
       "      <th>77923</th>\n",
       "      <th>Holiday Inn Los Angeles International Airport</th>\n",
       "      <td>73</td>\n",
       "      <td>45</td>\n",
       "      <td>1</td>\n",
       "      <td>4.0</td>\n",
       "      <td>90.0</td>\n",
       "      <td>-14.0</td>\n",
       "    </tr>\n",
       "  </tbody>\n",
       "</table>\n",
       "</div>"
      ],
      "text/plain": [
       "                                                       bf_similar_score  \\\n",
       "hotelid hotel_name                                                        \n",
       "84333   Shores Resort and Spa                                       415   \n",
       "2514817 Four Seasons Hotel George V Paris                           341   \n",
       "81363   Hotel California San Francisco                              199   \n",
       "77923   Holiday Inn Los Angeles International Airport                73   \n",
       "\n",
       "                                                       room_similar_score  \\\n",
       "hotelid hotel_name                                                          \n",
       "84333   Shores Resort and Spa                                         368   \n",
       "2514817 Four Seasons Hotel George V Paris                             250   \n",
       "81363   Hotel California San Francisco                                173   \n",
       "77923   Holiday Inn Los Angeles International Airport                  45   \n",
       "\n",
       "                                                       spa_similar_score  \\\n",
       "hotelid hotel_name                                                         \n",
       "84333   Shores Resort and Spa                                         29   \n",
       "2514817 Four Seasons Hotel George V Paris                             44   \n",
       "81363   Hotel California San Francisco                                 1   \n",
       "77923   Holiday Inn Los Angeles International Airport                  1   \n",
       "\n",
       "                                                       is_positive_rating  \\\n",
       "hotelid hotel_name                                                          \n",
       "84333   Shores Resort and Spa                                        53.0   \n",
       "2514817 Four Seasons Hotel George V Paris                            41.0   \n",
       "81363   Hotel California San Francisco                               15.0   \n",
       "77923   Holiday Inn Los Angeles International Airport                 4.0   \n",
       "\n",
       "                                                       pos_score  neg_score  \n",
       "hotelid hotel_name                                                           \n",
       "84333   Shores Resort and Spa                              844.0      -73.0  \n",
       "2514817 Four Seasons Hotel George V Paris                  604.0      -62.0  \n",
       "81363   Hotel California San Francisco                     287.0      -37.8  \n",
       "77923   Holiday Inn Los Angeles International Airport       90.0      -14.0  "
      ]
     },
     "execution_count": 805,
     "metadata": {},
     "output_type": "execute_result"
    }
   ],
   "source": [
    "another_pd[another_pd['pos_score'] > 10].groupby(['hotelid', 'hotel_name']).sum().sort_values(['pos_score'], ascending=False)"
   ]
  },
  {
   "cell_type": "code",
   "execution_count": 806,
   "metadata": {
    "collapsed": false
   },
   "outputs": [
    {
     "data": {
      "text/plain": [
       "hotelid  hotel_name                                   \n",
       "2514817  Four Seasons Hotel George V Paris                213\n",
       "76790    BEST WESTERN PLUS Eagle Rock Inn                   8\n",
       "77923    Holiday Inn Los Angeles International Airport     86\n",
       "81363    Hotel California San Francisco                    85\n",
       "84333    Shores Resort and Spa                            240\n",
       "dtype: int64"
      ]
     },
     "execution_count": 806,
     "metadata": {},
     "output_type": "execute_result"
    }
   ],
   "source": [
    "another_pd[another_pd['pos_score'] > 3].groupby(['hotelid', 'hotel_name']).size()"
   ]
  },
  {
   "cell_type": "code",
   "execution_count": 808,
   "metadata": {
    "collapsed": false
   },
   "outputs": [],
   "source": [
    "hotel_sentiment = another_pd[another_pd['pos_score'] > 3].groupby(['hotelid', 'hotel_name']).sum().sort_values(['pos_score'], ascending=False)"
   ]
  },
  {
   "cell_type": "code",
   "execution_count": 812,
   "metadata": {
    "collapsed": false
   },
   "outputs": [],
   "source": [
    "hotel_sentiment['pos_entry'] = another_pd[another_pd['pos_score'] > 3].groupby(['hotelid', 'hotel_name']).size()"
   ]
  },
  {
   "cell_type": "code",
   "execution_count": 821,
   "metadata": {
    "collapsed": false
   },
   "outputs": [
    {
     "data": {
      "text/html": [
       "<div>\n",
       "<table border=\"1\" class=\"dataframe\">\n",
       "  <thead>\n",
       "    <tr style=\"text-align: right;\">\n",
       "      <th></th>\n",
       "      <th></th>\n",
       "      <th>bf_similar_score</th>\n",
       "      <th>room_similar_score</th>\n",
       "      <th>spa_similar_score</th>\n",
       "      <th>is_positive_rating</th>\n",
       "      <th>pos_score</th>\n",
       "      <th>neg_score</th>\n",
       "      <th>pos_entry</th>\n",
       "    </tr>\n",
       "    <tr>\n",
       "      <th>hotelid</th>\n",
       "      <th>hotel_name</th>\n",
       "      <th></th>\n",
       "      <th></th>\n",
       "      <th></th>\n",
       "      <th></th>\n",
       "      <th></th>\n",
       "      <th></th>\n",
       "      <th></th>\n",
       "    </tr>\n",
       "  </thead>\n",
       "  <tbody>\n",
       "    <tr>\n",
       "      <th>84333</th>\n",
       "      <th>Shores Resort and Spa</th>\n",
       "      <td>990</td>\n",
       "      <td>1014</td>\n",
       "      <td>81</td>\n",
       "      <td>212.0</td>\n",
       "      <td>2022.0</td>\n",
       "      <td>-172.0</td>\n",
       "      <td>240</td>\n",
       "    </tr>\n",
       "    <tr>\n",
       "      <th>2514817</th>\n",
       "      <th>Four Seasons Hotel George V Paris</th>\n",
       "      <td>1040</td>\n",
       "      <td>753</td>\n",
       "      <td>114</td>\n",
       "      <td>200.0</td>\n",
       "      <td>1664.0</td>\n",
       "      <td>-168.0</td>\n",
       "      <td>213</td>\n",
       "    </tr>\n",
       "    <tr>\n",
       "      <th>81363</th>\n",
       "      <th>Hotel California San Francisco</th>\n",
       "      <td>519</td>\n",
       "      <td>519</td>\n",
       "      <td>13</td>\n",
       "      <td>61.0</td>\n",
       "      <td>703.0</td>\n",
       "      <td>-140.3</td>\n",
       "      <td>85</td>\n",
       "    </tr>\n",
       "    <tr>\n",
       "      <th>77923</th>\n",
       "      <th>Holiday Inn Los Angeles International Airport</th>\n",
       "      <td>364</td>\n",
       "      <td>351</td>\n",
       "      <td>9</td>\n",
       "      <td>52.0</td>\n",
       "      <td>545.0</td>\n",
       "      <td>-83.0</td>\n",
       "      <td>86</td>\n",
       "    </tr>\n",
       "    <tr>\n",
       "      <th>76790</th>\n",
       "      <th>BEST WESTERN PLUS Eagle Rock Inn</th>\n",
       "      <td>25</td>\n",
       "      <td>26</td>\n",
       "      <td>1</td>\n",
       "      <td>3.0</td>\n",
       "      <td>46.0</td>\n",
       "      <td>-8.0</td>\n",
       "      <td>8</td>\n",
       "    </tr>\n",
       "  </tbody>\n",
       "</table>\n",
       "</div>"
      ],
      "text/plain": [
       "                                                       bf_similar_score  \\\n",
       "hotelid hotel_name                                                        \n",
       "84333   Shores Resort and Spa                                       990   \n",
       "2514817 Four Seasons Hotel George V Paris                          1040   \n",
       "81363   Hotel California San Francisco                              519   \n",
       "77923   Holiday Inn Los Angeles International Airport               364   \n",
       "76790   BEST WESTERN PLUS Eagle Rock Inn                             25   \n",
       "\n",
       "                                                       room_similar_score  \\\n",
       "hotelid hotel_name                                                          \n",
       "84333   Shores Resort and Spa                                        1014   \n",
       "2514817 Four Seasons Hotel George V Paris                             753   \n",
       "81363   Hotel California San Francisco                                519   \n",
       "77923   Holiday Inn Los Angeles International Airport                 351   \n",
       "76790   BEST WESTERN PLUS Eagle Rock Inn                               26   \n",
       "\n",
       "                                                       spa_similar_score  \\\n",
       "hotelid hotel_name                                                         \n",
       "84333   Shores Resort and Spa                                         81   \n",
       "2514817 Four Seasons Hotel George V Paris                            114   \n",
       "81363   Hotel California San Francisco                                13   \n",
       "77923   Holiday Inn Los Angeles International Airport                  9   \n",
       "76790   BEST WESTERN PLUS Eagle Rock Inn                               1   \n",
       "\n",
       "                                                       is_positive_rating  \\\n",
       "hotelid hotel_name                                                          \n",
       "84333   Shores Resort and Spa                                       212.0   \n",
       "2514817 Four Seasons Hotel George V Paris                           200.0   \n",
       "81363   Hotel California San Francisco                               61.0   \n",
       "77923   Holiday Inn Los Angeles International Airport                52.0   \n",
       "76790   BEST WESTERN PLUS Eagle Rock Inn                              3.0   \n",
       "\n",
       "                                                       pos_score  neg_score  \\\n",
       "hotelid hotel_name                                                            \n",
       "84333   Shores Resort and Spa                             2022.0     -172.0   \n",
       "2514817 Four Seasons Hotel George V Paris                 1664.0     -168.0   \n",
       "81363   Hotel California San Francisco                     703.0     -140.3   \n",
       "77923   Holiday Inn Los Angeles International Airport      545.0      -83.0   \n",
       "76790   BEST WESTERN PLUS Eagle Rock Inn                    46.0       -8.0   \n",
       "\n",
       "                                                       pos_entry  \n",
       "hotelid hotel_name                                                \n",
       "84333   Shores Resort and Spa                                240  \n",
       "2514817 Four Seasons Hotel George V Paris                    213  \n",
       "81363   Hotel California San Francisco                        85  \n",
       "77923   Holiday Inn Los Angeles International Airport         86  \n",
       "76790   BEST WESTERN PLUS Eagle Rock Inn                       8  "
      ]
     },
     "execution_count": 821,
     "metadata": {},
     "output_type": "execute_result"
    }
   ],
   "source": [
    "del hotel_sentiment['total_entry']\n",
    "hotel_sentiment"
   ]
  },
  {
   "cell_type": "code",
   "execution_count": 814,
   "metadata": {
    "collapsed": false
   },
   "outputs": [
    {
     "data": {
      "text/plain": [
       "hotelid  hotel_name                                   \n",
       "84333    Shores Resort and Spa                            842.500000\n",
       "2514817  Four Seasons Hotel George V Paris                781.220657\n",
       "81363    Hotel California San Francisco                   827.058824\n",
       "77923    Holiday Inn Los Angeles International Airport    633.720930\n",
       "76790    BEST WESTERN PLUS Eagle Rock Inn                 575.000000\n",
       "dtype: float64"
      ]
     },
     "execution_count": 814,
     "metadata": {},
     "output_type": "execute_result"
    }
   ],
   "source": [
    "hotel_sentiment['pos_score'] / hotel_sentiment['pos_entry'] * 100.0"
   ]
  },
  {
   "cell_type": "code",
   "execution_count": 815,
   "metadata": {
    "collapsed": false
   },
   "outputs": [
    {
     "data": {
      "text/html": [
       "<div>\n",
       "<table border=\"1\" class=\"dataframe\">\n",
       "  <thead>\n",
       "    <tr style=\"text-align: right;\">\n",
       "      <th></th>\n",
       "      <th></th>\n",
       "      <th>bf_similar_score</th>\n",
       "      <th>room_similar_score</th>\n",
       "      <th>spa_similar_score</th>\n",
       "      <th>is_positive_rating</th>\n",
       "      <th>pos_score</th>\n",
       "      <th>neg_score</th>\n",
       "    </tr>\n",
       "    <tr>\n",
       "      <th>hotelid</th>\n",
       "      <th>hotel_name</th>\n",
       "      <th></th>\n",
       "      <th></th>\n",
       "      <th></th>\n",
       "      <th></th>\n",
       "      <th></th>\n",
       "      <th></th>\n",
       "    </tr>\n",
       "  </thead>\n",
       "  <tbody>\n",
       "    <tr>\n",
       "      <th>2514817</th>\n",
       "      <th>Four Seasons Hotel George V Paris</th>\n",
       "      <td>4.882629</td>\n",
       "      <td>3.535211</td>\n",
       "      <td>0.535211</td>\n",
       "      <td>0.938967</td>\n",
       "      <td>7.812207</td>\n",
       "      <td>-0.788732</td>\n",
       "    </tr>\n",
       "    <tr>\n",
       "      <th>76790</th>\n",
       "      <th>BEST WESTERN PLUS Eagle Rock Inn</th>\n",
       "      <td>3.125000</td>\n",
       "      <td>3.250000</td>\n",
       "      <td>0.125000</td>\n",
       "      <td>0.375000</td>\n",
       "      <td>5.750000</td>\n",
       "      <td>-1.000000</td>\n",
       "    </tr>\n",
       "    <tr>\n",
       "      <th>77923</th>\n",
       "      <th>Holiday Inn Los Angeles International Airport</th>\n",
       "      <td>4.232558</td>\n",
       "      <td>4.081395</td>\n",
       "      <td>0.104651</td>\n",
       "      <td>0.604651</td>\n",
       "      <td>6.337209</td>\n",
       "      <td>-0.965116</td>\n",
       "    </tr>\n",
       "    <tr>\n",
       "      <th>81363</th>\n",
       "      <th>Hotel California San Francisco</th>\n",
       "      <td>6.105882</td>\n",
       "      <td>6.105882</td>\n",
       "      <td>0.152941</td>\n",
       "      <td>0.717647</td>\n",
       "      <td>8.270588</td>\n",
       "      <td>-1.650588</td>\n",
       "    </tr>\n",
       "    <tr>\n",
       "      <th>84333</th>\n",
       "      <th>Shores Resort and Spa</th>\n",
       "      <td>4.125000</td>\n",
       "      <td>4.225000</td>\n",
       "      <td>0.337500</td>\n",
       "      <td>0.883333</td>\n",
       "      <td>8.425000</td>\n",
       "      <td>-0.716667</td>\n",
       "    </tr>\n",
       "  </tbody>\n",
       "</table>\n",
       "</div>"
      ],
      "text/plain": [
       "                                                       bf_similar_score  \\\n",
       "hotelid hotel_name                                                        \n",
       "2514817 Four Seasons Hotel George V Paris                      4.882629   \n",
       "76790   BEST WESTERN PLUS Eagle Rock Inn                       3.125000   \n",
       "77923   Holiday Inn Los Angeles International Airport          4.232558   \n",
       "81363   Hotel California San Francisco                         6.105882   \n",
       "84333   Shores Resort and Spa                                  4.125000   \n",
       "\n",
       "                                                       room_similar_score  \\\n",
       "hotelid hotel_name                                                          \n",
       "2514817 Four Seasons Hotel George V Paris                        3.535211   \n",
       "76790   BEST WESTERN PLUS Eagle Rock Inn                         3.250000   \n",
       "77923   Holiday Inn Los Angeles International Airport            4.081395   \n",
       "81363   Hotel California San Francisco                           6.105882   \n",
       "84333   Shores Resort and Spa                                    4.225000   \n",
       "\n",
       "                                                       spa_similar_score  \\\n",
       "hotelid hotel_name                                                         \n",
       "2514817 Four Seasons Hotel George V Paris                       0.535211   \n",
       "76790   BEST WESTERN PLUS Eagle Rock Inn                        0.125000   \n",
       "77923   Holiday Inn Los Angeles International Airport           0.104651   \n",
       "81363   Hotel California San Francisco                          0.152941   \n",
       "84333   Shores Resort and Spa                                   0.337500   \n",
       "\n",
       "                                                       is_positive_rating  \\\n",
       "hotelid hotel_name                                                          \n",
       "2514817 Four Seasons Hotel George V Paris                        0.938967   \n",
       "76790   BEST WESTERN PLUS Eagle Rock Inn                         0.375000   \n",
       "77923   Holiday Inn Los Angeles International Airport            0.604651   \n",
       "81363   Hotel California San Francisco                           0.717647   \n",
       "84333   Shores Resort and Spa                                    0.883333   \n",
       "\n",
       "                                                       pos_score  neg_score  \n",
       "hotelid hotel_name                                                           \n",
       "2514817 Four Seasons Hotel George V Paris               7.812207  -0.788732  \n",
       "76790   BEST WESTERN PLUS Eagle Rock Inn                5.750000  -1.000000  \n",
       "77923   Holiday Inn Los Angeles International Airport   6.337209  -0.965116  \n",
       "81363   Hotel California San Francisco                  8.270588  -1.650588  \n",
       "84333   Shores Resort and Spa                           8.425000  -0.716667  "
      ]
     },
     "execution_count": 815,
     "metadata": {},
     "output_type": "execute_result"
    }
   ],
   "source": [
    "another_pd[another_pd['pos_score'] > 3].groupby(['hotelid', 'hotel_name']).mean()"
   ]
  },
  {
   "cell_type": "code",
   "execution_count": 816,
   "metadata": {
    "collapsed": false
   },
   "outputs": [
    {
     "data": {
      "text/html": [
       "<div>\n",
       "<table border=\"1\" class=\"dataframe\">\n",
       "  <thead>\n",
       "    <tr style=\"text-align: right;\">\n",
       "      <th></th>\n",
       "      <th></th>\n",
       "      <th>bf_similar_score</th>\n",
       "      <th>room_similar_score</th>\n",
       "      <th>spa_similar_score</th>\n",
       "      <th>is_positive_rating</th>\n",
       "      <th>pos_score</th>\n",
       "      <th>neg_score</th>\n",
       "    </tr>\n",
       "    <tr>\n",
       "      <th>hotelid</th>\n",
       "      <th>hotel_name</th>\n",
       "      <th></th>\n",
       "      <th></th>\n",
       "      <th></th>\n",
       "      <th></th>\n",
       "      <th></th>\n",
       "      <th></th>\n",
       "    </tr>\n",
       "  </thead>\n",
       "  <tbody>\n",
       "    <tr>\n",
       "      <th>2514817</th>\n",
       "      <th>Four Seasons Hotel George V Paris</th>\n",
       "      <td>4.236001</td>\n",
       "      <td>4.300607</td>\n",
       "      <td>1.057288</td>\n",
       "      <td>0.239955</td>\n",
       "      <td>4.195960</td>\n",
       "      <td>1.298571</td>\n",
       "    </tr>\n",
       "    <tr>\n",
       "      <th>76790</th>\n",
       "      <th>BEST WESTERN PLUS Eagle Rock Inn</th>\n",
       "      <td>2.799872</td>\n",
       "      <td>1.908627</td>\n",
       "      <td>0.353553</td>\n",
       "      <td>0.517549</td>\n",
       "      <td>1.164965</td>\n",
       "      <td>1.069045</td>\n",
       "    </tr>\n",
       "    <tr>\n",
       "      <th>77923</th>\n",
       "      <th>Holiday Inn Los Angeles International Airport</th>\n",
       "      <td>3.689969</td>\n",
       "      <td>3.308510</td>\n",
       "      <td>0.485776</td>\n",
       "      <td>0.491793</td>\n",
       "      <td>3.212514</td>\n",
       "      <td>1.490737</td>\n",
       "    </tr>\n",
       "    <tr>\n",
       "      <th>81363</th>\n",
       "      <th>Hotel California San Francisco</th>\n",
       "      <td>4.353498</td>\n",
       "      <td>6.489962</td>\n",
       "      <td>0.475742</td>\n",
       "      <td>0.452816</td>\n",
       "      <td>3.868026</td>\n",
       "      <td>1.879439</td>\n",
       "    </tr>\n",
       "    <tr>\n",
       "      <th>84333</th>\n",
       "      <th>Shores Resort and Spa</th>\n",
       "      <td>3.820365</td>\n",
       "      <td>3.730374</td>\n",
       "      <td>0.713476</td>\n",
       "      <td>0.321694</td>\n",
       "      <td>4.297830</td>\n",
       "      <td>1.248821</td>\n",
       "    </tr>\n",
       "  </tbody>\n",
       "</table>\n",
       "</div>"
      ],
      "text/plain": [
       "                                                       bf_similar_score  \\\n",
       "hotelid hotel_name                                                        \n",
       "2514817 Four Seasons Hotel George V Paris                      4.236001   \n",
       "76790   BEST WESTERN PLUS Eagle Rock Inn                       2.799872   \n",
       "77923   Holiday Inn Los Angeles International Airport          3.689969   \n",
       "81363   Hotel California San Francisco                         4.353498   \n",
       "84333   Shores Resort and Spa                                  3.820365   \n",
       "\n",
       "                                                       room_similar_score  \\\n",
       "hotelid hotel_name                                                          \n",
       "2514817 Four Seasons Hotel George V Paris                        4.300607   \n",
       "76790   BEST WESTERN PLUS Eagle Rock Inn                         1.908627   \n",
       "77923   Holiday Inn Los Angeles International Airport            3.308510   \n",
       "81363   Hotel California San Francisco                           6.489962   \n",
       "84333   Shores Resort and Spa                                    3.730374   \n",
       "\n",
       "                                                       spa_similar_score  \\\n",
       "hotelid hotel_name                                                         \n",
       "2514817 Four Seasons Hotel George V Paris                       1.057288   \n",
       "76790   BEST WESTERN PLUS Eagle Rock Inn                        0.353553   \n",
       "77923   Holiday Inn Los Angeles International Airport           0.485776   \n",
       "81363   Hotel California San Francisco                          0.475742   \n",
       "84333   Shores Resort and Spa                                   0.713476   \n",
       "\n",
       "                                                       is_positive_rating  \\\n",
       "hotelid hotel_name                                                          \n",
       "2514817 Four Seasons Hotel George V Paris                        0.239955   \n",
       "76790   BEST WESTERN PLUS Eagle Rock Inn                         0.517549   \n",
       "77923   Holiday Inn Los Angeles International Airport            0.491793   \n",
       "81363   Hotel California San Francisco                           0.452816   \n",
       "84333   Shores Resort and Spa                                    0.321694   \n",
       "\n",
       "                                                       pos_score  neg_score  \n",
       "hotelid hotel_name                                                           \n",
       "2514817 Four Seasons Hotel George V Paris               4.195960   1.298571  \n",
       "76790   BEST WESTERN PLUS Eagle Rock Inn                1.164965   1.069045  \n",
       "77923   Holiday Inn Los Angeles International Airport   3.212514   1.490737  \n",
       "81363   Hotel California San Francisco                  3.868026   1.879439  \n",
       "84333   Shores Resort and Spa                           4.297830   1.248821  "
      ]
     },
     "execution_count": 816,
     "metadata": {},
     "output_type": "execute_result"
    }
   ],
   "source": [
    "another_pd[another_pd['pos_score'] > 3].groupby(['hotelid', 'hotel_name']).std()"
   ]
  },
  {
   "cell_type": "code",
   "execution_count": 817,
   "metadata": {
    "collapsed": false
   },
   "outputs": [
    {
     "data": {
      "text/html": [
       "<div>\n",
       "<table border=\"1\" class=\"dataframe\">\n",
       "  <thead>\n",
       "    <tr style=\"text-align: right;\">\n",
       "      <th></th>\n",
       "      <th></th>\n",
       "      <th></th>\n",
       "      <th>bf_similar_score</th>\n",
       "      <th>neg_score</th>\n",
       "      <th>pos_score</th>\n",
       "      <th>room_similar_score</th>\n",
       "      <th>spa_similar_score</th>\n",
       "    </tr>\n",
       "    <tr>\n",
       "      <th>hotelid</th>\n",
       "      <th>hotel_name</th>\n",
       "      <th></th>\n",
       "      <th></th>\n",
       "      <th></th>\n",
       "      <th></th>\n",
       "      <th></th>\n",
       "      <th></th>\n",
       "    </tr>\n",
       "  </thead>\n",
       "  <tbody>\n",
       "    <tr>\n",
       "      <th rowspan=\"8\" valign=\"top\">2514817</th>\n",
       "      <th rowspan=\"8\" valign=\"top\">Four Seasons Hotel George V Paris</th>\n",
       "      <th>count</th>\n",
       "      <td>213.000000</td>\n",
       "      <td>213.000000</td>\n",
       "      <td>213.000000</td>\n",
       "      <td>213.000000</td>\n",
       "      <td>213.000000</td>\n",
       "    </tr>\n",
       "    <tr>\n",
       "      <th>mean</th>\n",
       "      <td>4.882629</td>\n",
       "      <td>-0.788732</td>\n",
       "      <td>7.812207</td>\n",
       "      <td>3.535211</td>\n",
       "      <td>0.535211</td>\n",
       "    </tr>\n",
       "    <tr>\n",
       "      <th>std</th>\n",
       "      <td>4.236001</td>\n",
       "      <td>1.298571</td>\n",
       "      <td>4.195960</td>\n",
       "      <td>4.300607</td>\n",
       "      <td>1.057288</td>\n",
       "    </tr>\n",
       "    <tr>\n",
       "      <th>min</th>\n",
       "      <td>0.000000</td>\n",
       "      <td>-11.000000</td>\n",
       "      <td>4.000000</td>\n",
       "      <td>0.000000</td>\n",
       "      <td>0.000000</td>\n",
       "    </tr>\n",
       "    <tr>\n",
       "      <th>25%</th>\n",
       "      <td>2.000000</td>\n",
       "      <td>-1.000000</td>\n",
       "      <td>5.000000</td>\n",
       "      <td>1.000000</td>\n",
       "      <td>0.000000</td>\n",
       "    </tr>\n",
       "    <tr>\n",
       "      <th>50%</th>\n",
       "      <td>4.000000</td>\n",
       "      <td>0.000000</td>\n",
       "      <td>6.000000</td>\n",
       "      <td>2.000000</td>\n",
       "      <td>0.000000</td>\n",
       "    </tr>\n",
       "    <tr>\n",
       "      <th>75%</th>\n",
       "      <td>6.000000</td>\n",
       "      <td>0.000000</td>\n",
       "      <td>9.000000</td>\n",
       "      <td>5.000000</td>\n",
       "      <td>1.000000</td>\n",
       "    </tr>\n",
       "    <tr>\n",
       "      <th>max</th>\n",
       "      <td>21.000000</td>\n",
       "      <td>0.000000</td>\n",
       "      <td>27.000000</td>\n",
       "      <td>29.000000</td>\n",
       "      <td>6.000000</td>\n",
       "    </tr>\n",
       "    <tr>\n",
       "      <th rowspan=\"8\" valign=\"top\">76790</th>\n",
       "      <th rowspan=\"8\" valign=\"top\">BEST WESTERN PLUS Eagle Rock Inn</th>\n",
       "      <th>count</th>\n",
       "      <td>8.000000</td>\n",
       "      <td>8.000000</td>\n",
       "      <td>8.000000</td>\n",
       "      <td>8.000000</td>\n",
       "      <td>8.000000</td>\n",
       "    </tr>\n",
       "    <tr>\n",
       "      <th>mean</th>\n",
       "      <td>3.125000</td>\n",
       "      <td>-1.000000</td>\n",
       "      <td>5.750000</td>\n",
       "      <td>3.250000</td>\n",
       "      <td>0.125000</td>\n",
       "    </tr>\n",
       "    <tr>\n",
       "      <th>std</th>\n",
       "      <td>2.799872</td>\n",
       "      <td>1.069045</td>\n",
       "      <td>1.164965</td>\n",
       "      <td>1.908627</td>\n",
       "      <td>0.353553</td>\n",
       "    </tr>\n",
       "    <tr>\n",
       "      <th>min</th>\n",
       "      <td>0.000000</td>\n",
       "      <td>-3.000000</td>\n",
       "      <td>4.000000</td>\n",
       "      <td>1.000000</td>\n",
       "      <td>0.000000</td>\n",
       "    </tr>\n",
       "    <tr>\n",
       "      <th>25%</th>\n",
       "      <td>0.750000</td>\n",
       "      <td>-1.250000</td>\n",
       "      <td>5.500000</td>\n",
       "      <td>1.750000</td>\n",
       "      <td>0.000000</td>\n",
       "    </tr>\n",
       "    <tr>\n",
       "      <th>50%</th>\n",
       "      <td>3.000000</td>\n",
       "      <td>-1.000000</td>\n",
       "      <td>6.000000</td>\n",
       "      <td>3.000000</td>\n",
       "      <td>0.000000</td>\n",
       "    </tr>\n",
       "    <tr>\n",
       "      <th>75%</th>\n",
       "      <td>5.000000</td>\n",
       "      <td>0.000000</td>\n",
       "      <td>6.250000</td>\n",
       "      <td>5.000000</td>\n",
       "      <td>0.000000</td>\n",
       "    </tr>\n",
       "    <tr>\n",
       "      <th>max</th>\n",
       "      <td>8.000000</td>\n",
       "      <td>0.000000</td>\n",
       "      <td>7.000000</td>\n",
       "      <td>6.000000</td>\n",
       "      <td>1.000000</td>\n",
       "    </tr>\n",
       "    <tr>\n",
       "      <th rowspan=\"8\" valign=\"top\">77923</th>\n",
       "      <th rowspan=\"8\" valign=\"top\">Holiday Inn Los Angeles International Airport</th>\n",
       "      <th>count</th>\n",
       "      <td>86.000000</td>\n",
       "      <td>86.000000</td>\n",
       "      <td>86.000000</td>\n",
       "      <td>86.000000</td>\n",
       "      <td>86.000000</td>\n",
       "    </tr>\n",
       "    <tr>\n",
       "      <th>mean</th>\n",
       "      <td>4.232558</td>\n",
       "      <td>-0.965116</td>\n",
       "      <td>6.337209</td>\n",
       "      <td>4.081395</td>\n",
       "      <td>0.104651</td>\n",
       "    </tr>\n",
       "    <tr>\n",
       "      <th>std</th>\n",
       "      <td>3.689969</td>\n",
       "      <td>1.490737</td>\n",
       "      <td>3.212514</td>\n",
       "      <td>3.308510</td>\n",
       "      <td>0.485776</td>\n",
       "    </tr>\n",
       "    <tr>\n",
       "      <th>min</th>\n",
       "      <td>0.000000</td>\n",
       "      <td>-8.000000</td>\n",
       "      <td>4.000000</td>\n",
       "      <td>0.000000</td>\n",
       "      <td>0.000000</td>\n",
       "    </tr>\n",
       "    <tr>\n",
       "      <th>25%</th>\n",
       "      <td>2.000000</td>\n",
       "      <td>-1.000000</td>\n",
       "      <td>4.000000</td>\n",
       "      <td>2.000000</td>\n",
       "      <td>0.000000</td>\n",
       "    </tr>\n",
       "    <tr>\n",
       "      <th>50%</th>\n",
       "      <td>4.000000</td>\n",
       "      <td>0.000000</td>\n",
       "      <td>6.000000</td>\n",
       "      <td>3.000000</td>\n",
       "      <td>0.000000</td>\n",
       "    </tr>\n",
       "    <tr>\n",
       "      <th>75%</th>\n",
       "      <td>6.000000</td>\n",
       "      <td>0.000000</td>\n",
       "      <td>7.000000</td>\n",
       "      <td>6.000000</td>\n",
       "      <td>0.000000</td>\n",
       "    </tr>\n",
       "    <tr>\n",
       "      <th>max</th>\n",
       "      <td>21.000000</td>\n",
       "      <td>0.000000</td>\n",
       "      <td>25.000000</td>\n",
       "      <td>19.000000</td>\n",
       "      <td>4.000000</td>\n",
       "    </tr>\n",
       "    <tr>\n",
       "      <th rowspan=\"8\" valign=\"top\">81363</th>\n",
       "      <th rowspan=\"8\" valign=\"top\">Hotel California San Francisco</th>\n",
       "      <th>count</th>\n",
       "      <td>85.000000</td>\n",
       "      <td>85.000000</td>\n",
       "      <td>85.000000</td>\n",
       "      <td>85.000000</td>\n",
       "      <td>85.000000</td>\n",
       "    </tr>\n",
       "    <tr>\n",
       "      <th>mean</th>\n",
       "      <td>6.105882</td>\n",
       "      <td>-1.650588</td>\n",
       "      <td>8.270588</td>\n",
       "      <td>6.105882</td>\n",
       "      <td>0.152941</td>\n",
       "    </tr>\n",
       "    <tr>\n",
       "      <th>std</th>\n",
       "      <td>4.353498</td>\n",
       "      <td>1.879439</td>\n",
       "      <td>3.868026</td>\n",
       "      <td>6.489962</td>\n",
       "      <td>0.475742</td>\n",
       "    </tr>\n",
       "    <tr>\n",
       "      <th>min</th>\n",
       "      <td>0.000000</td>\n",
       "      <td>-9.000000</td>\n",
       "      <td>4.000000</td>\n",
       "      <td>0.000000</td>\n",
       "      <td>0.000000</td>\n",
       "    </tr>\n",
       "    <tr>\n",
       "      <th>25%</th>\n",
       "      <td>3.000000</td>\n",
       "      <td>-3.000000</td>\n",
       "      <td>5.000000</td>\n",
       "      <td>2.000000</td>\n",
       "      <td>0.000000</td>\n",
       "    </tr>\n",
       "    <tr>\n",
       "      <th>50%</th>\n",
       "      <td>5.000000</td>\n",
       "      <td>-1.000000</td>\n",
       "      <td>7.000000</td>\n",
       "      <td>5.000000</td>\n",
       "      <td>0.000000</td>\n",
       "    </tr>\n",
       "    <tr>\n",
       "      <th>75%</th>\n",
       "      <td>8.000000</td>\n",
       "      <td>0.000000</td>\n",
       "      <td>10.000000</td>\n",
       "      <td>7.000000</td>\n",
       "      <td>0.000000</td>\n",
       "    </tr>\n",
       "    <tr>\n",
       "      <th>max</th>\n",
       "      <td>21.000000</td>\n",
       "      <td>1.500000</td>\n",
       "      <td>21.000000</td>\n",
       "      <td>47.000000</td>\n",
       "      <td>3.000000</td>\n",
       "    </tr>\n",
       "    <tr>\n",
       "      <th rowspan=\"8\" valign=\"top\">84333</th>\n",
       "      <th rowspan=\"8\" valign=\"top\">Shores Resort and Spa</th>\n",
       "      <th>count</th>\n",
       "      <td>240.000000</td>\n",
       "      <td>240.000000</td>\n",
       "      <td>240.000000</td>\n",
       "      <td>240.000000</td>\n",
       "      <td>240.000000</td>\n",
       "    </tr>\n",
       "    <tr>\n",
       "      <th>mean</th>\n",
       "      <td>4.125000</td>\n",
       "      <td>-0.716667</td>\n",
       "      <td>8.425000</td>\n",
       "      <td>4.225000</td>\n",
       "      <td>0.337500</td>\n",
       "    </tr>\n",
       "    <tr>\n",
       "      <th>std</th>\n",
       "      <td>3.820365</td>\n",
       "      <td>1.248821</td>\n",
       "      <td>4.297830</td>\n",
       "      <td>3.730374</td>\n",
       "      <td>0.713476</td>\n",
       "    </tr>\n",
       "    <tr>\n",
       "      <th>min</th>\n",
       "      <td>0.000000</td>\n",
       "      <td>-7.000000</td>\n",
       "      <td>4.000000</td>\n",
       "      <td>0.000000</td>\n",
       "      <td>0.000000</td>\n",
       "    </tr>\n",
       "    <tr>\n",
       "      <th>25%</th>\n",
       "      <td>2.000000</td>\n",
       "      <td>-1.000000</td>\n",
       "      <td>5.000000</td>\n",
       "      <td>2.000000</td>\n",
       "      <td>0.000000</td>\n",
       "    </tr>\n",
       "    <tr>\n",
       "      <th>50%</th>\n",
       "      <td>3.000000</td>\n",
       "      <td>0.000000</td>\n",
       "      <td>7.000000</td>\n",
       "      <td>3.000000</td>\n",
       "      <td>0.000000</td>\n",
       "    </tr>\n",
       "    <tr>\n",
       "      <th>75%</th>\n",
       "      <td>6.000000</td>\n",
       "      <td>0.000000</td>\n",
       "      <td>10.000000</td>\n",
       "      <td>6.000000</td>\n",
       "      <td>0.000000</td>\n",
       "    </tr>\n",
       "    <tr>\n",
       "      <th>max</th>\n",
       "      <td>33.000000</td>\n",
       "      <td>4.000000</td>\n",
       "      <td>27.000000</td>\n",
       "      <td>24.000000</td>\n",
       "      <td>4.000000</td>\n",
       "    </tr>\n",
       "  </tbody>\n",
       "</table>\n",
       "</div>"
      ],
      "text/plain": [
       "                                                             bf_similar_score  \\\n",
       "hotelid hotel_name                                                              \n",
       "2514817 Four Seasons Hotel George V Paris             count        213.000000   \n",
       "                                                      mean           4.882629   \n",
       "                                                      std            4.236001   \n",
       "                                                      min            0.000000   \n",
       "                                                      25%            2.000000   \n",
       "                                                      50%            4.000000   \n",
       "                                                      75%            6.000000   \n",
       "                                                      max           21.000000   \n",
       "76790   BEST WESTERN PLUS Eagle Rock Inn              count          8.000000   \n",
       "                                                      mean           3.125000   \n",
       "                                                      std            2.799872   \n",
       "                                                      min            0.000000   \n",
       "                                                      25%            0.750000   \n",
       "                                                      50%            3.000000   \n",
       "                                                      75%            5.000000   \n",
       "                                                      max            8.000000   \n",
       "77923   Holiday Inn Los Angeles International Airport count         86.000000   \n",
       "                                                      mean           4.232558   \n",
       "                                                      std            3.689969   \n",
       "                                                      min            0.000000   \n",
       "                                                      25%            2.000000   \n",
       "                                                      50%            4.000000   \n",
       "                                                      75%            6.000000   \n",
       "                                                      max           21.000000   \n",
       "81363   Hotel California San Francisco                count         85.000000   \n",
       "                                                      mean           6.105882   \n",
       "                                                      std            4.353498   \n",
       "                                                      min            0.000000   \n",
       "                                                      25%            3.000000   \n",
       "                                                      50%            5.000000   \n",
       "                                                      75%            8.000000   \n",
       "                                                      max           21.000000   \n",
       "84333   Shores Resort and Spa                         count        240.000000   \n",
       "                                                      mean           4.125000   \n",
       "                                                      std            3.820365   \n",
       "                                                      min            0.000000   \n",
       "                                                      25%            2.000000   \n",
       "                                                      50%            3.000000   \n",
       "                                                      75%            6.000000   \n",
       "                                                      max           33.000000   \n",
       "\n",
       "                                                              neg_score  \\\n",
       "hotelid hotel_name                                                        \n",
       "2514817 Four Seasons Hotel George V Paris             count  213.000000   \n",
       "                                                      mean    -0.788732   \n",
       "                                                      std      1.298571   \n",
       "                                                      min    -11.000000   \n",
       "                                                      25%     -1.000000   \n",
       "                                                      50%      0.000000   \n",
       "                                                      75%      0.000000   \n",
       "                                                      max      0.000000   \n",
       "76790   BEST WESTERN PLUS Eagle Rock Inn              count    8.000000   \n",
       "                                                      mean    -1.000000   \n",
       "                                                      std      1.069045   \n",
       "                                                      min     -3.000000   \n",
       "                                                      25%     -1.250000   \n",
       "                                                      50%     -1.000000   \n",
       "                                                      75%      0.000000   \n",
       "                                                      max      0.000000   \n",
       "77923   Holiday Inn Los Angeles International Airport count   86.000000   \n",
       "                                                      mean    -0.965116   \n",
       "                                                      std      1.490737   \n",
       "                                                      min     -8.000000   \n",
       "                                                      25%     -1.000000   \n",
       "                                                      50%      0.000000   \n",
       "                                                      75%      0.000000   \n",
       "                                                      max      0.000000   \n",
       "81363   Hotel California San Francisco                count   85.000000   \n",
       "                                                      mean    -1.650588   \n",
       "                                                      std      1.879439   \n",
       "                                                      min     -9.000000   \n",
       "                                                      25%     -3.000000   \n",
       "                                                      50%     -1.000000   \n",
       "                                                      75%      0.000000   \n",
       "                                                      max      1.500000   \n",
       "84333   Shores Resort and Spa                         count  240.000000   \n",
       "                                                      mean    -0.716667   \n",
       "                                                      std      1.248821   \n",
       "                                                      min     -7.000000   \n",
       "                                                      25%     -1.000000   \n",
       "                                                      50%      0.000000   \n",
       "                                                      75%      0.000000   \n",
       "                                                      max      4.000000   \n",
       "\n",
       "                                                              pos_score  \\\n",
       "hotelid hotel_name                                                        \n",
       "2514817 Four Seasons Hotel George V Paris             count  213.000000   \n",
       "                                                      mean     7.812207   \n",
       "                                                      std      4.195960   \n",
       "                                                      min      4.000000   \n",
       "                                                      25%      5.000000   \n",
       "                                                      50%      6.000000   \n",
       "                                                      75%      9.000000   \n",
       "                                                      max     27.000000   \n",
       "76790   BEST WESTERN PLUS Eagle Rock Inn              count    8.000000   \n",
       "                                                      mean     5.750000   \n",
       "                                                      std      1.164965   \n",
       "                                                      min      4.000000   \n",
       "                                                      25%      5.500000   \n",
       "                                                      50%      6.000000   \n",
       "                                                      75%      6.250000   \n",
       "                                                      max      7.000000   \n",
       "77923   Holiday Inn Los Angeles International Airport count   86.000000   \n",
       "                                                      mean     6.337209   \n",
       "                                                      std      3.212514   \n",
       "                                                      min      4.000000   \n",
       "                                                      25%      4.000000   \n",
       "                                                      50%      6.000000   \n",
       "                                                      75%      7.000000   \n",
       "                                                      max     25.000000   \n",
       "81363   Hotel California San Francisco                count   85.000000   \n",
       "                                                      mean     8.270588   \n",
       "                                                      std      3.868026   \n",
       "                                                      min      4.000000   \n",
       "                                                      25%      5.000000   \n",
       "                                                      50%      7.000000   \n",
       "                                                      75%     10.000000   \n",
       "                                                      max     21.000000   \n",
       "84333   Shores Resort and Spa                         count  240.000000   \n",
       "                                                      mean     8.425000   \n",
       "                                                      std      4.297830   \n",
       "                                                      min      4.000000   \n",
       "                                                      25%      5.000000   \n",
       "                                                      50%      7.000000   \n",
       "                                                      75%     10.000000   \n",
       "                                                      max     27.000000   \n",
       "\n",
       "                                                             room_similar_score  \\\n",
       "hotelid hotel_name                                                                \n",
       "2514817 Four Seasons Hotel George V Paris             count          213.000000   \n",
       "                                                      mean             3.535211   \n",
       "                                                      std              4.300607   \n",
       "                                                      min              0.000000   \n",
       "                                                      25%              1.000000   \n",
       "                                                      50%              2.000000   \n",
       "                                                      75%              5.000000   \n",
       "                                                      max             29.000000   \n",
       "76790   BEST WESTERN PLUS Eagle Rock Inn              count            8.000000   \n",
       "                                                      mean             3.250000   \n",
       "                                                      std              1.908627   \n",
       "                                                      min              1.000000   \n",
       "                                                      25%              1.750000   \n",
       "                                                      50%              3.000000   \n",
       "                                                      75%              5.000000   \n",
       "                                                      max              6.000000   \n",
       "77923   Holiday Inn Los Angeles International Airport count           86.000000   \n",
       "                                                      mean             4.081395   \n",
       "                                                      std              3.308510   \n",
       "                                                      min              0.000000   \n",
       "                                                      25%              2.000000   \n",
       "                                                      50%              3.000000   \n",
       "                                                      75%              6.000000   \n",
       "                                                      max             19.000000   \n",
       "81363   Hotel California San Francisco                count           85.000000   \n",
       "                                                      mean             6.105882   \n",
       "                                                      std              6.489962   \n",
       "                                                      min              0.000000   \n",
       "                                                      25%              2.000000   \n",
       "                                                      50%              5.000000   \n",
       "                                                      75%              7.000000   \n",
       "                                                      max             47.000000   \n",
       "84333   Shores Resort and Spa                         count          240.000000   \n",
       "                                                      mean             4.225000   \n",
       "                                                      std              3.730374   \n",
       "                                                      min              0.000000   \n",
       "                                                      25%              2.000000   \n",
       "                                                      50%              3.000000   \n",
       "                                                      75%              6.000000   \n",
       "                                                      max             24.000000   \n",
       "\n",
       "                                                             spa_similar_score  \n",
       "hotelid hotel_name                                                              \n",
       "2514817 Four Seasons Hotel George V Paris             count         213.000000  \n",
       "                                                      mean            0.535211  \n",
       "                                                      std             1.057288  \n",
       "                                                      min             0.000000  \n",
       "                                                      25%             0.000000  \n",
       "                                                      50%             0.000000  \n",
       "                                                      75%             1.000000  \n",
       "                                                      max             6.000000  \n",
       "76790   BEST WESTERN PLUS Eagle Rock Inn              count           8.000000  \n",
       "                                                      mean            0.125000  \n",
       "                                                      std             0.353553  \n",
       "                                                      min             0.000000  \n",
       "                                                      25%             0.000000  \n",
       "                                                      50%             0.000000  \n",
       "                                                      75%             0.000000  \n",
       "                                                      max             1.000000  \n",
       "77923   Holiday Inn Los Angeles International Airport count          86.000000  \n",
       "                                                      mean            0.104651  \n",
       "                                                      std             0.485776  \n",
       "                                                      min             0.000000  \n",
       "                                                      25%             0.000000  \n",
       "                                                      50%             0.000000  \n",
       "                                                      75%             0.000000  \n",
       "                                                      max             4.000000  \n",
       "81363   Hotel California San Francisco                count          85.000000  \n",
       "                                                      mean            0.152941  \n",
       "                                                      std             0.475742  \n",
       "                                                      min             0.000000  \n",
       "                                                      25%             0.000000  \n",
       "                                                      50%             0.000000  \n",
       "                                                      75%             0.000000  \n",
       "                                                      max             3.000000  \n",
       "84333   Shores Resort and Spa                         count         240.000000  \n",
       "                                                      mean            0.337500  \n",
       "                                                      std             0.713476  \n",
       "                                                      min             0.000000  \n",
       "                                                      25%             0.000000  \n",
       "                                                      50%             0.000000  \n",
       "                                                      75%             0.000000  \n",
       "                                                      max             4.000000  "
      ]
     },
     "execution_count": 817,
     "metadata": {},
     "output_type": "execute_result"
    }
   ],
   "source": [
    "another_pd[another_pd['pos_score'] > 3].groupby(['hotelid', 'hotel_name']).describe()"
   ]
  },
  {
   "cell_type": "code",
   "execution_count": null,
   "metadata": {
    "collapsed": true
   },
   "outputs": [],
   "source": [
    "# Machine Learning\n",
    "# Logistic regression\n",
    "\n"
   ]
  }
 ],
 "metadata": {
  "anaconda-cloud": {},
  "kernelspec": {
   "display_name": "Python [conda root]",
   "language": "python",
   "name": "conda-root-py"
  },
  "language_info": {
   "codemirror_mode": {
    "name": "ipython",
    "version": 2
   },
   "file_extension": ".py",
   "mimetype": "text/x-python",
   "name": "python",
   "nbconvert_exporter": "python",
   "pygments_lexer": "ipython2",
   "version": "2.7.12"
  }
 },
 "nbformat": 4,
 "nbformat_minor": 1
}
